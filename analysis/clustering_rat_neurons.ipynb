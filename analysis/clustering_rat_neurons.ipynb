{
 "cells": [
  {
   "cell_type": "code",
   "execution_count": null,
   "id": "f298fd84-443a-4cbc-8c20-6a929ecaca46",
   "metadata": {},
   "outputs": [],
   "source": [
    "library(Seurat)\n",
    "library(ggplot2)\n",
    "library(ggpubr)"
   ]
  },
  {
   "cell_type": "markdown",
   "id": "d2c5903a-9221-4e64-b3a7-ef917bbae67c",
   "metadata": {
    "lines_to_next_cell": 0
   },
   "source": [
    "# Load data"
   ]
  },
  {
   "cell_type": "code",
   "execution_count": null,
   "id": "8574d739-f29b-4170-9703-bdbd74b9ed05",
   "metadata": {},
   "outputs": [],
   "source": [
    "rat <- readRDS(\"/projects/mludwig/DVC/output/Seurat_objs/rat/rat_Seurat_obj.rds\")"
   ]
  },
  {
   "cell_type": "markdown",
   "id": "ef6b8c70-cd1e-4698-8d14-0ed1a0adad8e",
   "metadata": {
    "lines_to_next_cell": 0
   },
   "source": [
    "# Subset neurons"
   ]
  },
  {
   "cell_type": "code",
   "execution_count": null,
   "id": "7e7cc006-4cf9-4d75-88be-9c56ff020772",
   "metadata": {},
   "outputs": [],
   "source": [
    "rat.neurons <- subset(rat, subset = SCT_snn_res.0.1 %in% c(1, 2, 6, 8, 11)) "
   ]
  },
  {
   "cell_type": "markdown",
   "id": "e8604a13-ba78-488d-bc2e-c949956c800e",
   "metadata": {
    "lines_to_next_cell": 0
   },
   "source": [
    "# Rerun data normalization"
   ]
  },
  {
   "cell_type": "code",
   "execution_count": null,
   "id": "d29a5d27-27d9-4733-a3b9-20e61ebb8318",
   "metadata": {},
   "outputs": [],
   "source": [
    "rat.neurons <- SCTransform(rat.neurons, verbose = F, method = \"qpoisson\")"
   ]
  },
  {
   "cell_type": "markdown",
   "id": "7ed0ffc9-e681-410c-ad0d-97bb0e35c38f",
   "metadata": {
    "lines_to_next_cell": 0
   },
   "source": [
    "# Run dimensionality reduction"
   ]
  },
  {
   "cell_type": "code",
   "execution_count": null,
   "id": "ed200425-b9a3-4661-b452-c10e510723ca",
   "metadata": {},
   "outputs": [],
   "source": [
    "# PCA\n",
    "rat.neurons <- RunPCA(rat.neurons, npcs = 100, verbose = F)\n",
    "\n",
    "# Select number of PCs\n",
    "ElbowPlot(rat.neurons, ndims = 100)\n",
    "\n",
    "# UMAP\n",
    "dims <- 30\n",
    "rat.neurons <- RunUMAP(rat.neurons, dims = 1:dims, n.neighbors = 50)"
   ]
  },
  {
   "cell_type": "markdown",
   "id": "b1d43728-84ac-453c-8c63-55ef3e960830",
   "metadata": {
    "lines_to_next_cell": 0
   },
   "source": [
    "# Find clusters"
   ]
  },
  {
   "cell_type": "code",
   "execution_count": null,
   "id": "cb51f1d1-ed22-4fd1-ae7f-9c670b75383a",
   "metadata": {},
   "outputs": [],
   "source": [
    "rat.neurons <- FindNeighbors(rat.neurons, dims = 1:dims, k.param = 50, verbose = F)\n",
    "rat.neurons <- FindClusters(rat.neurons, resolution = 0.1, verbose = F)"
   ]
  },
  {
   "cell_type": "markdown",
   "id": "62daf0a0-d1d8-4d94-ac48-df02603e0095",
   "metadata": {
    "lines_to_next_cell": 0
   },
   "source": [
    "# Save"
   ]
  },
  {
   "cell_type": "code",
   "execution_count": null,
   "id": "c77f9a2d-6bc9-4079-8196-5a71808bfd98",
   "metadata": {},
   "outputs": [],
   "source": [
    "rat.neurons@meta.data <- rat.neurons@meta.data[, c(\"nCount_RNA\", \"nFeature_RNA\", \n",
    "                                                   \"nCount_SCT\", \"nFeature_SCT\",\n",
    "                                                   \"percent.mt\", \"pool\", \"hash.ID\", \n",
    "                                                   \"treatment\", \"run\", \n",
    "                                                   \"SCT_snn_res.0.1\")]\n",
    "saveRDS(rat.neurons, file = \"/projects/mludwig/DVC/output/Seurat_objs/rat/rat_neurons_Seurat_obj.rds\")"
   ]
  }
 ],
 "metadata": {
  "kernelspec": {
   "display_name": "conda_py3.11",
   "language": "python",
   "name": "conda_py3.11"
  },
  "language_info": {
   "codemirror_mode": {
    "name": "ipython",
    "version": 3
   },
   "file_extension": ".py",
   "mimetype": "text/x-python",
   "name": "python",
   "nbconvert_exporter": "python",
   "pygments_lexer": "ipython3",
   "version": "3.11.9"
  }
 },
 "nbformat": 4,
 "nbformat_minor": 5
}
