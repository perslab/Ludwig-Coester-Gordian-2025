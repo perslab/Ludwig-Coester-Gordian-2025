{
 "cells": [
  {
   "cell_type": "code",
   "execution_count": null,
   "id": "fada6231",
   "metadata": {},
   "outputs": [],
   "source": [
    "suppressMessages(suppressWarnings(library(Seurat)))\n",
    "suppressMessages(suppressWarnings(library(tidyverse)))\n",
    "suppressMessages(suppressWarnings(library(BiocParallel))) # Parallelize doublet detection\n",
    "suppressMessages(suppressWarnings(library(Matrix)))\n",
    "suppressMessages(suppressWarnings(library(reticulate))) # CELLEX\n",
    "suppressMessages(suppressWarnings(library(ggdendro)))\n",
    "suppressMessages(suppressWarnings(library(ggalluvial)))\n",
    "suppressMessages(suppressWarnings(library(RColorBrewer)))\n",
    "suppressMessages(suppressWarnings(library(mclust)))\n",
    "suppressMessages(suppressWarnings(library(pheatmap)))\n",
    "\n",
    "options(repr.matrix.max.cols = 100)\n",
    "options(repr.plot.height = 10, repr.plot.width = 10)"
   ]
  },
  {
   "cell_type": "markdown",
   "id": "4f8ff517",
   "metadata": {
    "jp-MarkdownHeadingCollapsed": true
   },
   "source": [
    "# Glia"
   ]
  },
  {
   "cell_type": "code",
   "execution_count": null,
   "id": "6bfcc91b",
   "metadata": {},
   "outputs": [],
   "source": [
    "mouse.glia <- readRDS(\"/projects/perslab/people/jmg776/projects/DVC/output/Seurat_objs/mouse/mouse_glia_Seurat_obj.rds\")\n",
    "mouse.glia$species <- \"mouse\"\n",
    "mouse.glia$orig.clusters <- mouse.glia$SCT_snn_res.0.1\n",
    "mouse.glia$year <- \"2023\"\n",
    "mouse.glia$dataset <- paste0(mouse.glia$species, \".\", mouse.glia$year)\n",
    "\n",
    "\n",
    "rat.glia <- readRDS(\"/projects/perslab/people/jmg776/projects/DVC/output/Seurat_objs/rat/rat_glia_Seurat_obj.rds\")\n",
    "rat.glia$species <- \"rat\"\n",
    "rat.glia$orig.clusters <- rat.glia$SCT_snn_res.0.1\n",
    "rat.glia$year <- \"2023\"\n",
    "rat.glia$dataset <- paste0(rat.glia$species, \".\", rat.glia$year)\n",
    "\n",
    "\n",
    "monkey.glia <- readRDS(\"/projects/perslab/people/jmg776/projects/DVC/output/Seurat_objs/monkey/monkey_glia_2025.rds\")\n",
    "monkey.glia$species <- \"macaque\"\n",
    "monkey.glia$orig.clusters <- monkey.glia$integrated_snn_res.0.1\n",
    "monkey.glia$year <- \"2023\"\n",
    "monkey.glia$dataset <- paste0(monkey.glia$species, \".\", monkey.glia$year)\n",
    "\n",
    "\n",
    "mouse.glia.Ludwig <- readRDS(\"/projects/perslab/people/jmg776/projects/DVC/output/Seurat_objs/mouse/mouse_glia_Ludwig_Seurat_obj.rds\")\n",
    "mouse.glia.Ludwig$species <- \"mouse\"\n",
    "mouse.glia.Ludwig$orig.clusters <- mouse.glia.Ludwig$SCT_snn_res.0.1\n",
    "mouse.glia.Ludwig$year <- \"2021\"\n",
    "mouse.glia.Ludwig$dataset <- paste0(mouse.glia.Ludwig$species, \".\", mouse.glia.Ludwig$year)"
   ]
  },
  {
   "cell_type": "markdown",
   "id": "7b13f0eb",
   "metadata": {},
   "source": [
    "## 1. Integration (sbatch)"
   ]
  },
  {
   "cell_type": "markdown",
   "id": "65508bfc",
   "metadata": {},
   "source": [
    "### 1.1. Find common genes"
   ]
  },
  {
   "cell_type": "code",
   "execution_count": null,
   "id": "87d293b8",
   "metadata": {},
   "outputs": [],
   "source": [
    "addSpeciesAssay <- function(x, ensembl.mapping = NULL, species = NULL) {\n",
    "    from <- \"Gene.name\"\n",
    "    to <- paste0(stringr::str_to_title(species), \".gene.name\")\n",
    "\n",
    "    # Process mapping data\n",
    "    mapping <- ensembl.mapping[apply(ensembl.mapping[, c(from, to)], 1, function(row) all(row != \"\")),\n",
    "                               c(from, to)]\n",
    "    \n",
    "    newgenes <- mapping[mapping[, 1] %in% rownames(GetAssayData(x, assay = \"RNA\", slot = \"counts\")), ]\n",
    "    newgenes <- newgenes[order(nchar(newgenes[,2])), ]\n",
    "    newgenes <- newgenes[!duplicated(newgenes[,2]), ]\n",
    "    defect_genes <- which(newgenes[,1] %in% setdiff(newgenes[,1], rownames(GetAssayData(x, assay = \"RNA\", slot = \"counts\"))))\n",
    "    if (length(defect_genes) > 0) newgenes <- newgenes[-defect_genes, ]\n",
    "    \n",
    "    # Get the counts matrix from the RNA assay\n",
    "    rna_counts <- GetAssayData(x, assay = \"RNA\", layer = \"counts\")\n",
    "    new_mat <- fac2sparse(newgenes[,2]) %*% rna_counts[newgenes[,1], ]\n",
    "    \n",
    "    new_mat <- CreateAssayObject(counts = new_mat)\n",
    "    x[[paste0(species, '_RNA')]] <- new_mat\n",
    "    DefaultAssay(x) <- paste0(species, '_RNA')\n",
    "    return(x)\n",
    "}\n",
    "                                     \n",
    "# https://www.ensembl.info/2009/01/21/how-to-get-all-the-orthologous-genes-between-two-species/\n",
    "macaque.to.mouse <- read.csv(\"/projects/perslab/people/jmg776/projects/DVC/data/gene_info/macaque_to_mouse.txt\")\n",
    "rat.to.mouse <- read.csv(\"/projects/perslab/people/jmg776/projects/DVC/data/gene_info/rat_to_mouse.txt\")\n",
    "rat.to.mouse <- rbind(rat.to.mouse, c(\"\", \"Chat\", \"Chat\"), c(\"\", \"Ramp2\", \"Ramp2\")) \n",
    "                                     \n",
    "# Map macaque and rat genes to mouse orthologues\n",
    "monkey.glia <- addSpeciesAssay(monkey.glia, ensembl.mapping = macaque.to.mouse, species = \"mouse\")\n",
    "rat.glia <- addSpeciesAssay(rat.glia, ensembl.mapping = rat.to.mouse, species = \"mouse\")\n",
    "\n",
    "common.genes <- intersect(intersect(rownames(mouse.glia@assays$RNA), rownames(monkey.glia@assays$mouse_RNA)),\n",
    "                          rownames(rat.glia@assays$mouse_RNA))\n",
    "\n",
    "monkey.RNA <- CreateAssayObject(counts = monkey.glia@assays$mouse_RNA@counts[common.genes, ])\n",
    "monkey.glia[['monkey_RNA']] <- monkey.glia[['RNA']]\n",
    "monkey.glia[['RNA']] <- NULL\n",
    "monkey.glia[[\"RNA\"]] <- monkey.RNA\n",
    "DefaultAssay(monkey.glia) <- \"RNA\"\n",
    "monkey.glia[[\"mouse_RNA\"]] <- NULL\n",
    "\n",
    "rat.RNA <- CreateAssayObject(counts = rat.glia@assays$mouse_RNA@counts[common.genes, ])\n",
    "rat.glia[['rat_RNA']] <- rat.glia[['RNA']]\n",
    "rat.glia[['RNA']] <- NULL\n",
    "rat.glia[[\"RNA\"]] <- rat.RNA\n",
    "DefaultAssay(rat.glia) <- \"RNA\"\n",
    "rat.glia[[\"mouse_RNA\"]] <- NULL\n",
    "                                 \n",
    "mouse.RNA <- CreateAssayObject(counts = mouse.glia@assays$RNA@counts[common.genes, ])\n",
    "mouse.glia[['mouse_RNA']] <- mouse.glia[['RNA']]\n",
    "mouse.glia[['RNA']] <- NULL\n",
    "mouse.glia[[\"RNA\"]] <- mouse.RNA\n",
    "DefaultAssay(mouse.glia) <- \"RNA\"\n",
    "\n",
    "mouse.RNA.Ludwig <- CreateAssayObject(counts = mouse.glia.Ludwig@assays$RNA@counts[common.genes, ])\n",
    "mouse.glia.Ludwig[['mouse_RNA']] <- mouse.glia.Ludwig[['RNA']]\n",
    "mouse.glia.Ludwig[['RNA']] <- NULL\n",
    "mouse.glia.Ludwig[[\"RNA\"]] <- mouse.RNA.Ludwig\n",
    "DefaultAssay(mouse.glia.Ludwig) <- \"RNA\""
   ]
  },
  {
   "cell_type": "code",
   "execution_count": null,
   "id": "21bcd3cc",
   "metadata": {},
   "outputs": [],
   "source": [
    "# Finding common genes reduces number of UMIs - most in mouse, likely due to higher number of annotated genes, and by extension, pseudogenes\n",
    "hist(mouse.glia$nCount_RNA, breaks = 100)\n",
    "min(mouse.glia$nCount_RNA)\n",
    "\n",
    "hist(rat.glia$nCount_RNA, breaks = 100)\n",
    "min(rat.glia$nCount_RNA)\n",
    "\n",
    "hist(monkey.glia$nCount_RNA, breaks = 100)\n",
    "min(monkey.glia$nCount_RNA)\n",
    "\n",
    "hist(mouse.glia.Ludwig$nCount_RNA, breaks = 100)\n",
    "min(mouse.glia.Ludwig$nCount_RNA)"
   ]
  },
  {
   "cell_type": "markdown",
   "id": "a0201261",
   "metadata": {},
   "source": [
    "### 1.2. Run integration"
   ]
  },
  {
   "cell_type": "code",
   "execution_count": null,
   "id": "50f95edf",
   "metadata": {},
   "outputs": [],
   "source": [
    "monkey.list <- SplitObject(monkey.glia, split.by = \"run\")\n",
    "for (i in 1:length(monkey.list)) {\n",
    "  print(i)\n",
    "  monkey.list[[i]][['integrated']] <- NULL\n",
    "  monkey.list[[i]] <- SCTransform(monkey.list[[i]], verbose = F, method = \"qpoisson\")\n",
    "}\n",
    "mouse.glia <- SCTransform(mouse.glia, verbose = F, method = \"qpoisson\")\n",
    "mouse.glia.Ludwig <- SCTransform(mouse.glia.Ludwig, verbose = F, method = \"qpoisson\")\n",
    "rat.glia <- SCTransform(rat.glia, verbose = F, method = \"qpoisson\")\n",
    "\n",
    "dims <- 30\n",
    "glia.list <- c(mouse.glia, rat.glia, monkey.list, mouse.glia.Ludwig)\n",
    "\n",
    "options(future.globals.maxSize = 80000000000)\n",
    "\n",
    "# Integrate data\n",
    "features <- SelectIntegrationFeatures(object.list = glia.list, nfeatures = 3000)\n",
    "\n",
    "glia.list <- PrepSCTIntegration(object.list = glia.list, anchor.features = features,\n",
    "    verbose = F)\n",
    "\n",
    "glia.anchors <- FindIntegrationAnchors(object.list = glia.list, normalization.method = \"SCT\",\n",
    "    anchor.features = features, reduction = \"cca\", verbose = F, dims = 1:dims)\n",
    "glia <- IntegrateData(anchorset = glia.anchors, normalization.method = \"SCT\",\n",
    "    verbose = F, dims = 1:dims)"
   ]
  },
  {
   "cell_type": "code",
   "execution_count": null,
   "id": "0e1d12ce",
   "metadata": {},
   "outputs": [],
   "source": [
    "glia <- RunPCA(glia, verbose = F, npcs = 100)\n",
    "glia <- RunUMAP(glia, dims = 1:dims, n.neighbors = 50)\n",
    "glia <- FindNeighbors(glia, dims = 1:dims, k.param = 50, verbose = F)\n",
    "glia <- FindClusters(glia, resolution = 0.1, verbose = F)\n",
    "glia <- FindClusters(glia, resolution = 1, verbose = F)"
   ]
  },
  {
   "cell_type": "code",
   "execution_count": null,
   "id": "fc63d840",
   "metadata": {},
   "outputs": [],
   "source": [
    "saveRDS(glia, file = \"/projects/perslab/people/jmg776/projects/DVC/output/Seurat_objs/integrated/glia_integrated_2025.rds\")"
   ]
  },
  {
   "cell_type": "markdown",
   "id": "49107658",
   "metadata": {},
   "source": [
    "## 2. Labelling"
   ]
  },
  {
   "cell_type": "markdown",
   "id": "c290fd99",
   "metadata": {},
   "source": [
    "### 2.1. Quality control"
   ]
  },
  {
   "cell_type": "code",
   "execution_count": null,
   "id": "878f0511",
   "metadata": {},
   "outputs": [],
   "source": [
    "glia <- readRDS(\"/projects/perslab/people/jmg776/projects/DVC/output/Seurat_objs/integrated/glia_integrated_2025.rds\")"
   ]
  },
  {
   "cell_type": "code",
   "execution_count": null,
   "id": "1a74c057",
   "metadata": {},
   "outputs": [],
   "source": [
    "hist(glia$nCount_RNA, breaks = 200)\n",
    "hist(subset(glia, nCount_RNA < 2000)$nCount_RNA, breaks = 40)  # Cut at 500"
   ]
  },
  {
   "cell_type": "code",
   "execution_count": null,
   "id": "5354ff73",
   "metadata": {},
   "outputs": [],
   "source": [
    "# Examine where low quality cells originated from\n",
    "glia_500 <- subset(glia, nCount_RNA < 500)\n",
    "table(glia_500$species)\n",
    "table(glia_500$dataset)"
   ]
  },
  {
   "cell_type": "code",
   "execution_count": null,
   "id": "4df284f0",
   "metadata": {},
   "outputs": [],
   "source": [
    "# Recluster after subsetting\n",
    "glia <- subset(glia, nCount_RNA > 500)\n",
    "dims <- 30\n",
    "glia <- RunPCA(glia, verbose = F, npcs = 100)\n",
    "glia <- RunUMAP(glia, dims = 1:dims, n.neighbors = 50, verbose = F)\n",
    "glia <- FindNeighbors(glia, dims = 1:dims, k.param = 50, verbose = F)\n",
    "glia <- FindClusters(glia, resolution = 0.1, verbose = F)\n",
    "glia <- FindClusters(glia, resolution = 1, verbose = F)"
   ]
  },
  {
   "cell_type": "code",
   "execution_count": null,
   "id": "8c685f6b",
   "metadata": {},
   "outputs": [],
   "source": [
    "DimPlot(glia, group.by = \"integrated_snn_res.0.1\", label = TRUE, raster = TRUE)\n",
    "DimPlot(glia, group.by = \"integrated_snn_res.1\", label = TRUE, raster = TRUE)\n",
    "DimPlot(glia, group.by = \"dataset\", raster = TRUE)\n",
    "DimPlot(glia, group.by = \"treatment\", raster = TRUE)"
   ]
  },
  {
   "cell_type": "code",
   "execution_count": null,
   "id": "56ad71fa",
   "metadata": {},
   "outputs": [],
   "source": [
    "source(\"/projects/perslab/people/jmg776/projects/DVC/code/flag_clusters.R\")\n",
    "\n",
    "flagged.clusters1 <- flag.clusters(seurat.obj = glia, \n",
    "                                   genes = c(\"Slc17a6\", \"Slc32a1\"),\n",
    "                                  resolution = \"integrated_snn_res.1\", quantile = 0.95)"
   ]
  },
  {
   "cell_type": "code",
   "execution_count": null,
   "id": "3e93306d",
   "metadata": {},
   "outputs": [],
   "source": [
    "DefaultAssay(glia) <- \"RNA\"\n",
    "\n",
    "# Look at neurotransmitter markers\n",
    "DotPlot(glia, features = c(\"Slc17a6\", \"Slc32a1\", \"Chat\"), group.by = \"integrated_snn_res.1\")\n",
    "FeaturePlot(glia, features = \"Slc17a6\", raster = TRUE, max.cutoff = \"q75\")\n",
    "FeaturePlot(glia, features = \"Slc32a1\", raster = TRUE, max.cutoff = \"q75\")\n",
    "FeaturePlot(glia, features = \"Chat\", raster = TRUE, max.cutoff = \"q75\")\n",
    "\n",
    "# Look at neuronal markers\n",
    "FeaturePlot(glia, features = \"Rbfox3\", raster = TRUE, max.cutoff = \"q90\") # NeuN\n",
    "FeaturePlot(glia, features = \"Stmn2\", raster = TRUE, max.cutoff = \"q90\")\n",
    "FeaturePlot(glia, features = \"Map2\", raster = TRUE, max.cutoff = \"q90\")"
   ]
  },
  {
   "cell_type": "code",
   "execution_count": null,
   "id": "9cec9225",
   "metadata": {},
   "outputs": [],
   "source": [
    "# Some neuronal markers are present, particularly for 16, and less consistently for 11\n",
    "# Both clusters are strangely somewhat positive for all neurotransmitters, which might indicate bad quality\n",
    "# Course of action: Remove 11 and 16. Save 16 in case relevant for neuronal dataset\n",
    "\n",
    "glia_neurons <- subset(glia, integrated_snn_res.1 == 16)\n",
    "saveRDS(glia_neurons, file = \"/projects/perslab/people/jmg776/projects/DVC/output/Seurat_objs/integrated/neurons_from_glia_2025.rds\")\n",
    "\n",
    "glia <- subset(glia, integrated_snn_res.1 %in% c(11, 16), invert = TRUE)"
   ]
  },
  {
   "cell_type": "code",
   "execution_count": null,
   "id": "9007052b",
   "metadata": {},
   "outputs": [],
   "source": [
    "DimPlot(glia, group.by = \"integrated_snn_res.1\", label = TRUE, raster = TRUE)"
   ]
  },
  {
   "cell_type": "code",
   "execution_count": null,
   "id": "4ed212b6",
   "metadata": {},
   "outputs": [],
   "source": [
    "resolution <- \"integrated_snn_res.1\"\n",
    "\n",
    "mouse.2023.clusters <- names(table(glia@meta.data[glia$dataset == \"mouse.2023\", resolution]))[which(table(glia@meta.data[glia$species == \"mouse\", resolution]) >= 5)]\n",
    "mouse.2021.clusters <- names(table(glia@meta.data[glia$dataset == \"mouse.2021\", resolution]))[which(table(glia@meta.data[glia$dataset == \"mouse.2021\", resolution]) >= 5)]\n",
    "rat.2023.clusters <- names(table(glia@meta.data[glia$dataset == \"rat.2023\", resolution]))[which(table(glia@meta.data[glia$dataset == \"rat.2023\", resolution]) >= 5)]\n",
    "macaque.2023.clusters <- names(table(glia@meta.data[glia$dataset == \"macaque.2023\", resolution]))[which(table(glia@meta.data[glia$dataset == \"macaque.2023\", resolution]) >= 5)]\n",
    "\n",
    "genes <- c(\"Ikzf1\", \"Slc38a5\", \"Ntsr2\", \"Myt1\", \"Mbp\") # In order: Microglia, #, Astrocytes, OPC, Oligodendrocytes\n",
    "\n",
    "mouse.2023.list <- rat.2023.list <- macaque.2023.list <- mouse.2021.list <- vector(mode = \"list\",\n",
    "                                                                                   length(genes))\n",
    "names(mouse.2023.list) <- names(rat.2023.list) <- names(macaque.2023.list) <- names(mouse.2021.list) <- genes\n",
    "\n",
    "for (gene in genes) {\n",
    "\n",
    "  cluster.mean <- sapply(mouse.2023.clusters, FUN = function(x) {\n",
    "    mean(glia@assays$SCT@data[gene, which(glia@meta.data[, resolution] == x & glia$dataset == \"mouse.2023\")])})\n",
    "  flag <- names(cluster.mean)[which(cluster.mean > (max(cluster.mean)/4))]\n",
    "  mouse.2023.list[[gene]] <- flag\n",
    "\n",
    "  cluster.mean <- sapply(rat.2023.clusters, FUN = function(x) {\n",
    "    mean(glia@assays$SCT@data[gene, which(glia@meta.data[, resolution] == x & glia$dataset == \"rat.2023\")])})\n",
    "  flag <- names(cluster.mean)[which(cluster.mean > (max(cluster.mean)/4))]\n",
    "  rat.2023.list[[gene]] <- flag\n",
    "\n",
    "  cluster.mean <- sapply(macaque.2023.clusters, FUN = function(x) {\n",
    "    mean(glia@assays$SCT@data[gene, which(glia@meta.data[, resolution] == x & glia$dataset == \"macaque.2023\")])})\n",
    "  flag <- names(cluster.mean)[which(cluster.mean > (max(cluster.mean)/4))]\n",
    "  macaque.2023.list[[gene]] <- flag\n",
    "  \n",
    "  cluster.mean <- sapply(mouse.2021.clusters, FUN = function(x) {\n",
    "    mean(glia@assays$SCT@data[gene, which(glia@meta.data[, resolution] == x & glia$dataset == \"mouse.2021\")])})\n",
    "  flag <- names(cluster.mean)[which(cluster.mean > (max(cluster.mean)/4))]\n",
    "  mouse.2021.list[[gene]] <- flag\n",
    "\n",
    "}\n",
    "\n",
    "mouse.2023.flag <- c(mouse.2023.list[[1]][mouse.2023.list[[1]] %in% unlist(mouse.2023.list[2:5])],\n",
    "                     mouse.2023.list[[2]][mouse.2023.list[[2]] %in% unlist(mouse.2023.list[3:5])],\n",
    "                     mouse.2023.list[[3]][mouse.2023.list[[3]] %in% unlist(mouse.2023.list[4:5])])\n",
    "        \n",
    "rat.2023.flag <- c(rat.2023.list[[1]][rat.2023.list[[1]] %in% unlist(rat.2023.list[2:5])],\n",
    "                   rat.2023.list[[2]][rat.2023.list[[2]] %in% unlist(rat.2023.list[3:5])],\n",
    "                   rat.2023.list[[3]][rat.2023.list[[3]] %in% unlist(rat.2023.list[4:5])])\n",
    "\n",
    "macaque.2023.flag <- c(macaque.2023.list[[1]][macaque.2023.list[[1]] %in% unlist(macaque.2023.list[2:5])],\n",
    "                      macaque.2023.list[[2]][macaque.2023.list[[2]] %in% unlist(macaque.2023.list[3:5])],\n",
    "                      macaque.2023.list[[3]][macaque.2023.list[[3]] %in% unlist(macaque.2023.list[4:5])])\n",
    "\n",
    "mouse.2021.flag <- c(mouse.2021.list[[1]][mouse.2021.list[[1]] %in% unlist(mouse.2021.list[2:5])],\n",
    "                     mouse.2021.list[[2]][mouse.2021.list[[2]] %in% unlist(mouse.2021.list[3:5])],\n",
    "                     mouse.2021.list[[3]][mouse.2021.list[[3]] %in% unlist(mouse.2021.list[4:5])])\n",
    "\n",
    "suspicious.clusters.table <- as.data.frame(table(c(unique(mouse.2023.flag),\n",
    "                                                   unique(rat.2023.flag), \n",
    "                                                   unique(macaque.2023.flag),\n",
    "                                                   unique(mouse.2021.flag))))\n",
    "colnames(suspicious.clusters.table) <- c(\"cluster\", \"freq\")\n",
    "\n",
    "clusters.table <- as.data.frame(table(c(mouse.2023.clusters, rat.2023.clusters,\n",
    "                                      macaque.2023.clusters, mouse.2021.clusters)))\n",
    "colnames(clusters.table) <- c(\"cluster\", \"freq\")\n",
    "      \n",
    "suspicious.clusters.table <- merge(suspicious.clusters.table, clusters.table, by = \"cluster\")\n",
    "    \n",
    "flagged.clusters2 <- as.character(suspicious.clusters.table$cluster[which(suspicious.clusters.table$freq.x == suspicious.clusters.table$freq.y | suspicious.clusters.table$freq.x >= 3)])\n",
    "\n",
    "flagged.clusters2"
   ]
  },
  {
   "cell_type": "code",
   "execution_count": null,
   "id": "517d4c28",
   "metadata": {},
   "outputs": [],
   "source": [
    "# Look at glia markers\n",
    "DotPlot(glia, features = c(\"Ikzf1\", \"Slc38a5\", \"Ntsr2\", \"Myt1\", \"Mbp\")) # In order: Microglia, #, Astrocytes, OPC, Oligodendrocytes\n",
    "FeaturePlot(glia, features = \"Ikzf1\", max.cutoff = \"q90\", raster = TRUE)\n",
    "FeaturePlot(glia, features = \"Slc38a5\", max.cutoff = \"q90\", raster = TRUE)\n",
    "FeaturePlot(glia, features = \"Ntsr2\", max.cutoff = \"q90\", raster = TRUE)\n",
    "FeaturePlot(glia, features = \"Myt1\", max.cutoff = \"q90\", raster = TRUE)\n",
    "FeaturePlot(glia, features = \"Mbp\", max.cutoff = \"q90\", raster = TRUE)"
   ]
  },
  {
   "cell_type": "code",
   "execution_count": null,
   "id": "a3ed1acf",
   "metadata": {
    "scrolled": true
   },
   "outputs": [],
   "source": [
    "# All the flagged clusters heterogeneous for multiple glia markers\n",
    "# Course of action: Remove\n",
    "\n",
    "glia <- subset(glia, integrated_snn_res.1 %in% flagged.clusters2, invert = T)"
   ]
  },
  {
   "cell_type": "code",
   "execution_count": null,
   "id": "13869cc3",
   "metadata": {},
   "outputs": [],
   "source": [
    "DefaultAssay(glia) <- \"integrated\"\n",
    "glia <- RunPCA(glia, verbose = F, npcs = 100)\n",
    "glia <- RunUMAP(glia, dims = 1:dims, n.neighbors = 50, verbose = F)\n",
    "glia <- FindNeighbors(glia, dims = 1:dims, k.param = 50, verbose = F)\n",
    "glia <- FindClusters(glia, resolution = 0.1, verbose = F)\n",
    "glia <- FindClusters(glia, resolution = 1, verbose = F)"
   ]
  },
  {
   "cell_type": "code",
   "execution_count": null,
   "id": "1d4326bb",
   "metadata": {},
   "outputs": [],
   "source": [
    "DimPlot(glia, group.by = \"integrated_snn_res.0.1\", label = TRUE, raster = TRUE) + NoLegend()\n",
    "DimPlot(glia, group.by = \"integrated_snn_res.1\", label = TRUE, raster = TRUE) + NoLegend()\n",
    "DimPlot(glia, group.by = \"species\", shuffle = TRUE, raster = TRUE)\n",
    "DimPlot(glia, group.by = \"treatment\", shuffle = TRUE, raster = TRUE)"
   ]
  },
  {
   "cell_type": "markdown",
   "id": "7ac2c081",
   "metadata": {},
   "source": [
    "### 3.2. Add labels"
   ]
  },
  {
   "cell_type": "code",
   "execution_count": null,
   "id": "6cd8473c-f941-4d9a-8532-7b1bdf44bc72",
   "metadata": {},
   "outputs": [],
   "source": [
    "DefaultAssay(glia) <- \"RNA\"\n",
    "\n",
    "FeaturePlot(glia, features = \"Clic6\", max.cutoff = \"q90\", raster = TRUE) # Choroid Plexus\n",
    "FeaturePlot(glia, features = \"Gfap\", max.cutoff = \"q90\", raster = TRUE) # Astrocytes\n",
    "FeaturePlot(glia, features = \"Mbp\", max.cutoff = \"q90\", raster = TRUE) # Oligo\n",
    "FeaturePlot(glia, features = \"Myt1\", max.cutoff = \"q90\", raster = TRUE) # OPC\n",
    "FeaturePlot(glia, features = \"Ikzf1\", max.cutoff = \"q90\", raster = TRUE) # Microglia\n",
    "FeaturePlot(glia, features = \"Lef1\", max.cutoff = \"q90\", raster = TRUE) # Endothelial\n",
    "FeaturePlot(glia, features = \"Tmem212\", max.cutoff = \"q90\", raster = TRUE) # Ependymal\n",
    "FeaturePlot(glia, features = \"Abcc9\", max.cutoff = \"q90\", raster = TRUE) # Pericyte\n",
    "FeaturePlot(glia, features = \"Dcn\", max.cutoff = \"q90\", raster = TRUE) # VLMC"
   ]
  },
  {
   "cell_type": "code",
   "execution_count": null,
   "id": "5ffe772d",
   "metadata": {},
   "outputs": [],
   "source": [
    "# Having a hard time separating endothelial and pericytes. Checking marker genes\n",
    "marker_16endo <- FindMarkers(glia, ident.1 = 16)\n",
    "marker_21peri <- FindMarkers(glia, ident.1 = 21)\n",
    "marker_26mixed <- FindMarkers(glia, ident.1 = 26)\n",
    "\n",
    "marker_16endo %>% filter(pct.1 > 0.5 & pct.2 < 0.3) %>% arrange(desc(avg_log2FC)) %>% head(10)\n",
    "marker_21peri %>% filter(pct.1 > 0.5 & pct.2 < 0.3) %>% arrange(desc(avg_log2FC)) %>% head(10) # Pericyte 1\n",
    "marker_26mixed %>% filter(pct.1 > 0.5 & pct.2 < 0.3) %>% arrange(desc(avg_log2FC)) %>% head(10) # Pericyte 2"
   ]
  },
  {
   "cell_type": "code",
   "execution_count": null,
   "id": "c63d6331",
   "metadata": {},
   "outputs": [],
   "source": [
    "glia@meta.data$UMAP_1 <- Embeddings(glia, \"umap\")[,1]\n",
    "glia <- subset(glia, subset = (integrated_snn_res.1 == 24 & UMAP_1 > 0), invert = TRUE) # Removing these because they are low counts (not shown, but can be reproduced) and cluster strangely"
   ]
  },
  {
   "cell_type": "code",
   "execution_count": null,
   "id": "b816911d",
   "metadata": {},
   "outputs": [],
   "source": [
    "glia$cell.type <- NA\n",
    "glia$cell.type[which(glia$integrated_snn_res.0.1 %in% c(0, 1))] <- \"Oligodendrocytes\"\n",
    "glia$cell.type[which(glia$integrated_snn_res.0.1 == 2)] <- \"Astrocytes\"\n",
    "glia$cell.type[which(glia$integrated_snn_res.0.1 == 3)] <- \"Microglia\"\n",
    "glia$cell.type[which(glia$integrated_snn_res.0.1 %in% c(4, 9))] <- \"OPCs\"\n",
    "glia$cell.type[which(glia$integrated_snn_res.0.1 == 5)] <- \"Endothelial_cells\"\n",
    "glia$cell.type[which(glia$integrated_snn_res.0.1 == 6)] <- \"Choroid_plexus_cells\"\n",
    "glia$cell.type[which(glia$integrated_snn_res.1 == 24)] <- \"Ependymal_cells\"\n",
    "glia$cell.type[which(glia$integrated_snn_res.0.1 == 8)] <- \"Tanycytes\"\n",
    "glia$cell.type[which(glia$integrated_snn_res.1 %in% c(21, 26)] <- \"Pericytes\" # Mette suggested that these were pericytes 1/2 subtypes\n",
    "glia$cell.type[which(glia$integrated_snn_res.1 == 22)] <- \"VLMCs\""
   ]
  },
  {
   "cell_type": "code",
   "execution_count": null,
   "id": "f80acb5a",
   "metadata": {},
   "outputs": [],
   "source": [
    "DimPlot(glia, group.by = \"cell.type\", label = TRUE, raster = TRUE) + NoLegend()"
   ]
  },
  {
   "cell_type": "code",
   "execution_count": null,
   "id": "f774ab80-a375-4039-9810-0f5207cf8005",
   "metadata": {},
   "outputs": [],
   "source": [
    "glia <- subset(glia, cells = colnames(glia)[ is.na(glia@meta.data$cell.type) ], invert = TRUE) # 11 straggler NA's, probably from UMAP-subsetting of Choroid Plexus cells"
   ]
  },
  {
   "cell_type": "code",
   "execution_count": null,
   "id": "a53e0f9e",
   "metadata": {},
   "outputs": [],
   "source": [
    "saveRDS(glia, file = \"/projects/perslab/people/jmg776/projects/DVC/output/Seurat_objs/integrated/glia_finalized_2025.rds\")"
   ]
  },
  {
   "cell_type": "markdown",
   "id": "38a3531a-f1d7-43b2-bab4-3ff6e8dac83f",
   "metadata": {},
   "source": [
    "### 3.3 CELLEX"
   ]
  },
  {
   "cell_type": "code",
   "execution_count": null,
   "id": "ec6d61c7-b33d-47eb-8c82-c54024939bcc",
   "metadata": {},
   "outputs": [],
   "source": [
    "use_condaenv(\"/home/jmg776/.conda/envs/CELLEX\")\n",
    "cellex <- import(\"cellex\", convert = FALSE)\n",
    "pd <- import(\"pandas\", convert = FALSE)"
   ]
  },
  {
   "cell_type": "code",
   "execution_count": null,
   "id": "18b501bd-acfb-45ae-9993-cdd8099bfb0e",
   "metadata": {},
   "outputs": [],
   "source": [
    "# Grab normalized counts\n",
    "counts_mouse <- as.data.frame(GetAssayData(subset(glia, species == \"mouse\"), assay = \"RNA\", layer = \"counts\"))\n",
    "counts_rat <- as.data.frame(GetAssayData(subset(glia, species == \"rat\"), assay = \"RNA\", layer = \"counts\"))\n",
    "counts_macaque <- as.data.frame(GetAssayData(subset(glia, species == \"macaque\"), assay = \"RNA\", layer = \"counts\"))\n",
    "\n",
    "# Grab meta data\n",
    "meta_mouse <- subset(glia, species == \"mouse\")$cell.type %>% as.data.frame()\n",
    "meta_rat <- subset(glia, species == \"rat\")$cell.type %>% as.data.frame()\n",
    "meta_macaque <- subset(glia, species == \"macaque\")$cell.type %>% as.data.frame()"
   ]
  },
  {
   "cell_type": "code",
   "execution_count": null,
   "id": "7f7c85a7-ff28-4009-88c9-5bbb50c6762e",
   "metadata": {},
   "outputs": [],
   "source": [
    "# Run CELLEX\n",
    "eso_mouse <- cellex$ESObject(data = counts_mouse, annotation = meta_mouse, normalize = TRUE, verbose = TRUE)\n",
    "eso_mouse$compute(verbose = TRUE)\n",
    "eso_mouse$results$esmu$to_csv(\"/projects/perslab/people/jmg776/projects/DVC/output/CELLEX/output/glia_mouse_2025.esmu.csv\")\n",
    "\n",
    "eso_rat <- cellex$ESObject(data = counts_rat, annotation = meta_rat, normalize = TRUE, verbose = TRUE)\n",
    "eso_rat$compute(verbose = TRUE)\n",
    "eso_rat$results$esmu$to_csv(\"/projects/perslab/people/jmg776/projects/DVC/output/CELLEX/output/glia_rat_2025.esmu.csv\")\n",
    "\n",
    "eso_macaque <- cellex$ESObject(data = counts_macaque, annotation = meta_macaque, normalize = TRUE, verbose = TRUE)\n",
    "eso_macaque$compute(verbose = TRUE)\n",
    "eso_macaque$results$esmu$to_csv(\"/projects/perslab/people/jmg776/projects/DVC/output/CELLEX/output/glia_macaque_2025.esmu.csv\")"
   ]
  },
  {
   "cell_type": "markdown",
   "id": "efa8d1f8",
   "metadata": {},
   "source": [
    "# Neurons"
   ]
  },
  {
   "cell_type": "code",
   "execution_count": null,
   "id": "0db11bb7",
   "metadata": {},
   "outputs": [],
   "source": [
    "# Mouse 2023\n",
    "mouse.neurons <- readRDS(\"/projects/perslab/people/jmg776/projects/DVC/output/Seurat_objs/mouse/mouse_neurons_Seurat_obj.rds\")\n",
    "mouse.neurons$species <- \"mouse\"\n",
    "mouse.neurons$orig.clusters <- mouse.neurons$SCT_snn_res.0.1\n",
    "mouse.neurons$year <- \"2023\"\n",
    "mouse.neurons$dataset <- paste0(mouse.neurons$species, \".\", mouse.neurons$year)\n",
    "mouse.neurons$from_glia_neurons <- \"no\"\n",
    "\n",
    "# Rat 2023\n",
    "rat.neurons <- readRDS(\"/projects/perslab/people/jmg776/projects/DVC/output/Seurat_objs/rat/rat_neurons_Seurat_obj.rds\")\n",
    "rat.neurons$species <- \"rat\"\n",
    "rat.neurons$orig.clusters <- rat.neurons$SCT_snn_res.0.1\n",
    "rat.neurons$year <- \"2023\"\n",
    "rat.neurons$dataset <- paste0(rat.neurons$species, \".\", rat.neurons$year)\n",
    "rat.neurons$from_glia_neurons <- \"no\"\n",
    "\n",
    "# Macaque (Monkey) 2023\n",
    "monkey.neurons <- readRDS(\"/projects/perslab/people/jmg776/projects/DVC/output/Seurat_objs/monkey/monkey_neurons_2025.rds\")\n",
    "monkey.neurons$species <- \"macaque\"\n",
    "monkey.neurons$orig.clusters <- monkey.neurons$integrated_snn_res.0.1\n",
    "monkey.neurons$year <- \"2023\"\n",
    "monkey.neurons$dataset <- paste0(monkey.neurons$species, \".\", monkey.neurons$year)\n",
    "monkey.neurons$from_glia_neurons <- \"no\"\n",
    "\n",
    "# Mouse 2021 (Ludwig)\n",
    "mouse.neurons.Ludwig <- readRDS(\"/projects/perslab/people/jmg776/projects/DVC/output/Seurat_objs/mouse/mouse_neurons_Ludwig_Seurat_obj.rds\")\n",
    "mouse.neurons.Ludwig$species <- \"mouse\"\n",
    "mouse.neurons.Ludwig$orig.clusters <- mouse.neurons.Ludwig$SCT_snn_res.0.1\n",
    "mouse.neurons.Ludwig$year <- \"2021\"\n",
    "mouse.neurons.Ludwig$dataset <- paste0(mouse.neurons.Ludwig$species, \".\", mouse.neurons.Ludwig$year)\n",
    "mouse.neurons.Ludwig$from_glia_neurons <- \"no\""
   ]
  },
  {
   "cell_type": "markdown",
   "id": "3193eb43",
   "metadata": {},
   "source": [
    "## 2. Integration (sbatch)"
   ]
  },
  {
   "cell_type": "markdown",
   "id": "b1869cd5",
   "metadata": {},
   "source": [
    "### 2.1. Find common genes"
   ]
  },
  {
   "cell_type": "code",
   "execution_count": null,
   "id": "e6c71d29",
   "metadata": {},
   "outputs": [],
   "source": [
    "addSpeciesAssay <- function(x, ensembl.mapping = NULL, species = NULL) {\n",
    "    from <- \"Gene.name\"\n",
    "    to <- paste0(stringr::str_to_title(species), \".gene.name\")\n",
    "\n",
    "    # Process mapping data\n",
    "    mapping <- ensembl.mapping[apply(ensembl.mapping[, c(from, to)], 1, function(row) all(row != \"\")),\n",
    "                               c(from, to)]\n",
    "    \n",
    "    newgenes <- mapping[mapping[, 1] %in% rownames(GetAssayData(x, assay = \"RNA\", layer = \"counts\")), ]\n",
    "    newgenes <- newgenes[order(nchar(newgenes[,2])), ]\n",
    "    newgenes <- newgenes[!duplicated(newgenes[,2]), ]\n",
    "    defect_genes <- which(newgenes[,1] %in% setdiff(newgenes[,1], rownames(GetAssayData(x, assay = \"RNA\", layer = \"counts\"))))\n",
    "    if (length(defect_genes) > 0) newgenes <- newgenes[-defect_genes, ]\n",
    "    \n",
    "    # Get the counts matrix from the RNA assay\n",
    "    rna_counts <- GetAssayData(x, assay = \"RNA\", layer = \"counts\")\n",
    "    new_mat <- fac2sparse(newgenes[,2]) %*% rna_counts[newgenes[,1], ]\n",
    "    \n",
    "    new_mat <- CreateAssayObject(counts = new_mat)\n",
    "    x[[paste0(species, '_RNA')]] <- new_mat\n",
    "    DefaultAssay(x) <- paste0(species, '_RNA')\n",
    "    return(x)\n",
    "}\n",
    "\n",
    "# https://www.ensembl.info/2009/01/21/how-to-get-all-the-orthologous-genes-between-two-species/\n",
    "macaque.to.mouse <- read.csv(\"/projects/perslab/people/jmg776/projects/DVC/data/gene_info/macaque_to_mouse.txt\")\n",
    "rat.to.mouse <- read.csv(\"/projects/perslab/people/jmg776/projects/DVC/data/gene_info/rat_to_mouse.txt\")\n",
    "rat.to.mouse <- rbind(rat.to.mouse, c(\"\", \"Chat\", \"Chat\"), c(\"\", \"Ramp2\", \"Ramp2\"))\n",
    "                                     \n",
    "monkey.neurons <- addSpeciesAssay(monkey.neurons, ensembl.mapping = macaque.to.mouse, species = \"mouse\")\n",
    "rat.neurons <- addSpeciesAssay(rat.neurons, ensembl.mapping = rat.to.mouse, species = \"mouse\")"
   ]
  },
  {
   "cell_type": "code",
   "execution_count": null,
   "id": "1edca5bc",
   "metadata": {},
   "outputs": [],
   "source": [
    "common.genes <- intersect(intersect(rownames(mouse.neurons@assays$RNA),\n",
    "                                    rownames(monkey.neurons@assays$mouse_RNA)),\n",
    "                          intersect(rownames(rat.neurons@assays$mouse_RNA),\n",
    "                                    rownames(mouse.neurons.Ludwig@assays$RNA)))\n",
    "\n",
    "monkey.RNA <- CreateAssayObject(counts = monkey.neurons@assays$mouse_RNA@counts[common.genes, ])\n",
    "monkey.neurons[['macaque_RNA']] <- monkey.neurons[['RNA']]\n",
    "monkey.neurons[['RNA']] <- NULL\n",
    "monkey.neurons[[\"RNA\"]] <- monkey.RNA\n",
    "DefaultAssay(monkey.neurons) <- \"RNA\"\n",
    "monkey.neurons[[\"mouse_RNA\"]] <- NULL\n",
    "\n",
    "\n",
    "rat.RNA <- CreateAssayObject(counts = rat.neurons@assays$mouse_RNA@counts[common.genes, ])\n",
    "rat.neurons[['rat_RNA']] <- rat.neurons[['RNA']]\n",
    "rat.neurons[['RNA']] <- NULL\n",
    "rat.neurons[[\"RNA\"]] <- rat.RNA\n",
    "DefaultAssay(rat.neurons) <- \"RNA\"\n",
    "rat.neurons[[\"mouse_RNA\"]] <- NULL\n",
    "\n",
    "\n",
    "mouse.RNA <- CreateAssayObject(counts = mouse.neurons@assays$RNA@counts[common.genes, ])\n",
    "mouse.neurons[['mouse_RNA']] <- mouse.neurons[['RNA']]\n",
    "mouse.neurons[['RNA']] <- NULL\n",
    "mouse.neurons[[\"RNA\"]] <- mouse.RNA\n",
    "DefaultAssay(mouse.neurons) <- \"RNA\"\n",
    "\n",
    "\n",
    "mouse.RNA.Ludwig <- CreateAssayObject(counts = mouse.neurons.Ludwig@assays$RNA@counts[common.genes, ])\n",
    "mouse.neurons.Ludwig[['mouse_RNA']] <- mouse.neurons.Ludwig[['RNA']]\n",
    "mouse.neurons.Ludwig[['RNA']] <- NULL\n",
    "mouse.neurons.Ludwig[[\"RNA\"]] <- mouse.RNA.Ludwig\n",
    "DefaultAssay(mouse.neurons.Ludwig) <- \"RNA\""
   ]
  },
  {
   "cell_type": "code",
   "execution_count": null,
   "id": "4f9fa6b2",
   "metadata": {},
   "outputs": [],
   "source": [
    "# Finding common genes + species mapping reduces number of UMIs - most in mouse, likely due to higher number of annotated genes, and by extension, pseudogenes\n",
    "hist(mouse.neurons$nCount_RNA, breaks = 100)\n",
    "min(mouse.neurons$nCount_RNA)\n",
    "\n",
    "hist(rat.neurons$nCount_RNA, breaks = 100)\n",
    "min(rat.neurons$nCount_RNA)\n",
    "\n",
    "hist(monkey.neurons$nCount_RNA, breaks = 100)\n",
    "min(monkey.neurons$nCount_RNA)\n",
    "\n",
    "hist(mouse.neurons.Ludwig$nCount_RNA, breaks = 100)\n",
    "min(mouse.neurons.Ludwig$nCount_RNA)"
   ]
  },
  {
   "cell_type": "markdown",
   "id": "b2b20605",
   "metadata": {},
   "source": [
    "### 2.2. Run integration"
   ]
  },
  {
   "cell_type": "code",
   "execution_count": null,
   "id": "44ce0201",
   "metadata": {},
   "outputs": [],
   "source": [
    "monkey.list <- SplitObject(monkey.neurons, split.by = \"run\")\n",
    "for (i in 1:length(monkey.list)) {\n",
    "  print(i)\n",
    "  monkey.list[[i]][['integrated']] <- NULL\n",
    "  monkey.list[[i]] <- SCTransform(monkey.list[[i]], verbose = F, method = \"qpoisson\")\n",
    "}\n",
    "mouse.neurons <- SCTransform(mouse.neurons, verbose = F, method = \"qpoisson\")\n",
    "mouse.neurons.Ludwig <- SCTransform(mouse.neurons.Ludwig, verbose = F, method = \"qpoisson\")\n",
    "rat.neurons <- SCTransform(rat.neurons, verbose = F, method = \"qpoisson\")\n",
    "\n",
    "dims <- 30\n",
    "neurons.list <- c(mouse.neurons, rat.neurons, monkey.list, mouse.neurons.Ludwig)\n",
    "\n",
    "options(future.globals.maxSize = 80000000000)\n",
    "\n",
    "# Integrate data\n",
    "features <- SelectIntegrationFeatures(object.list = neurons.list, nfeatures = 3000)\n",
    "\n",
    "neurons.list <- PrepSCTIntegration(object.list = neurons.list, anchor.features = features,\n",
    "    verbose = F)\n",
    "\n",
    "neurons.anchors <- FindIntegrationAnchors(object.list = neurons.list, normalization.method = \"SCT\",\n",
    "    anchor.features = features, reduction = \"cca\", verbose = F, dims = 1:dims)\n",
    "neurons <- IntegrateData(anchorset = neurons.anchors, normalization.method = \"SCT\",\n",
    "    verbose = F, dims = 1:dims)"
   ]
  },
  {
   "cell_type": "code",
   "execution_count": null,
   "id": "fa6515dd",
   "metadata": {},
   "outputs": [],
   "source": [
    "neurons <- RunPCA(neurons, verbose = F, npcs = 100)\n",
    "neurons <- RunUMAP(neurons, dims = 1:dims, n.neighbors = 50)\n",
    "neurons <- FindNeighbors(neurons, dims = 1:dims, k.param = 50, verbose = F)\n",
    "neurons <- FindClusters(neurons, resolution = 0.1, verbose = F)\n",
    "neurons <- FindClusters(neurons, resolution = 1, verbose = F)"
   ]
  },
  {
   "cell_type": "code",
   "execution_count": null,
   "id": "063e64c5",
   "metadata": {},
   "outputs": [],
   "source": [
    "saveRDS(neurons, file = \"/projects/perslab/people/jmg776/projects/DVC/output/Seurat_objs/integrated/neurons_integrated_2025.rds\")"
   ]
  },
  {
   "cell_type": "markdown",
   "id": "c70814d0",
   "metadata": {},
   "source": [
    "## 3. Labelling"
   ]
  },
  {
   "cell_type": "markdown",
   "id": "88fc3c6d-2986-44fa-931d-a212e129481e",
   "metadata": {},
   "source": [
    "### 3.1. Quality control"
   ]
  },
  {
   "cell_type": "code",
   "execution_count": null,
   "id": "4cfc8b10",
   "metadata": {},
   "outputs": [],
   "source": [
    "neurons <- readRDS(\"/projects/perslab/people/jmg776/projects/DVC/output/Seurat_objs/integrated/neurons_integrated_2025.rds\")"
   ]
  },
  {
   "cell_type": "code",
   "execution_count": null,
   "id": "049af689",
   "metadata": {},
   "outputs": [],
   "source": [
    "options(repr.plot.width = 10, repr.plot.height = 10)\n",
    "hist(neurons$nCount_RNA, breaks = 200)  # Strong bimodial distribution due to common genes filtering and SCTransform native filtering (genes with low expression or little to no variance)\n",
    "hist(subset(neurons, nCount_RNA < 3000)$nCount_RNA, breaks = 30)  # Cut at 2000"
   ]
  },
  {
   "cell_type": "code",
   "execution_count": null,
   "id": "ddc254fe",
   "metadata": {},
   "outputs": [],
   "source": [
    "# Examine where low quality cells originated from\n",
    "neurons_2000 <- subset(neurons, nCount_RNA < 2000)\n",
    "table(neurons_2000$species)\n",
    "table(neurons_2000$dataset)"
   ]
  },
  {
   "cell_type": "code",
   "execution_count": null,
   "id": "189a5c3c",
   "metadata": {},
   "outputs": [],
   "source": [
    "neurons <- subset(neurons, nCount_RNA > 2000)\n",
    "dims <- 30\n",
    "neurons <- RunPCA(neurons, verbose = F, npcs = 100)\n",
    "neurons <- RunUMAP(neurons, dims = 1:dims, n.neighbors = 50, verbose = F)\n",
    "neurons <- FindNeighbors(neurons, dims = 1:dims, k.param = 50, verbose = F)\n",
    "neurons <- FindClusters(neurons, resolution = 0.1, verbose = F)\n",
    "neurons <- FindClusters(neurons, resolution = 1, verbose = F)"
   ]
  },
  {
   "cell_type": "code",
   "execution_count": null,
   "id": "c7a0c5dd",
   "metadata": {},
   "outputs": [],
   "source": [
    "DimPlot(neurons, group.by = \"integrated_snn_res.1\", raster = TRUE, label = TRUE) + NoLegend()\n",
    "DimPlot(neurons, group.by = \"dataset\", raster = TRUE, shuffle = TRUE)\n",
    "DimPlot(neurons, group.by = \"treatment\", raster = TRUE, shuffle = TRUE)"
   ]
  },
  {
   "cell_type": "markdown",
   "id": "57282d11",
   "metadata": {},
   "source": [
    "### 3.2. Neurotransmitter annotation"
   ]
  },
  {
   "cell_type": "code",
   "execution_count": null,
   "id": "0320822b",
   "metadata": {},
   "outputs": [],
   "source": [
    "options(repr.plot.width = 20, repr.plot.height = 10)\n",
    "DefaultAssay(neurons) <- \"RNA\"\n",
    "VlnPlot(neurons, features = \"Slc32a1\", group.by = \"integrated_snn_res.1\", pt.size = 0, raster = TRUE) + NoLegend() # GABA\n",
    "VlnPlot(neurons, features = \"Gad1\", group.by = \"integrated_snn_res.1\", pt.size = 0, raster = TRUE) + NoLegend() # GABA\n",
    "VlnPlot(neurons, features = \"Gad2\", group.by = \"integrated_snn_res.1\", pt.size = 0, raster = TRUE) + NoLegend() # GABA\n",
    "VlnPlot(neurons, features = \"Slc17a6\", group.by = \"integrated_snn_res.1\", pt.size = 0, raster = TRUE) + NoLegend() # Glutamate\n",
    "VlnPlot(neurons, features = \"Chat\", group.by = \"integrated_snn_res.1\", pt.size = 0, raster = TRUE) + NoLegend() # Acetylcholine"
   ]
  },
  {
   "cell_type": "code",
   "execution_count": null,
   "id": "ec2333ab",
   "metadata": {},
   "outputs": [],
   "source": [
    "glutamate.clusters <- c(0, 10, 12, 13, 16, 18, 19, 22, 23, 24, 25, 26,\n",
    "                        27, 28, 29, 3, 30, 31, 32, 33, 36, 37, 38, 39,\n",
    "                        40, 41, 43, 44, 45, 46, 49, 51, 54)\n",
    "GABA.clusters <- c(1, 11, 14, 15, 17, 2, 20, 3, 34, 4, 42, 48, 5, 52, 53, 6, 7, 8, 9)\n",
    "acetylcholine.clusters <- c(21, 35)\n",
    "\n",
    "neurons$neurotransmitter <- NA\n",
    "neurons$neurotransmitter[which(neurons$integrated_snn_res.1 %in% glutamate.clusters)] <- \"Glutamate\"\n",
    "neurons$neurotransmitter[which(neurons$integrated_snn_res.1 %in% GABA.clusters)] <- \"GABA\"\n",
    "neurons$neurotransmitter[which(neurons$integrated_snn_res.1 %in% acetylcholine.clusters)] <- \"Acetylcholine\""
   ]
  },
  {
   "cell_type": "code",
   "execution_count": null,
   "id": "46053a75",
   "metadata": {},
   "outputs": [],
   "source": [
    "options(repr.plot.width = 10, repr.plot.height = 10)\n",
    "DimPlot(neurons, group.by = \"neurotransmitter\", raster = TRUE) "
   ]
  },
  {
   "cell_type": "markdown",
   "id": "217f6a2c-e6a8-4610-950f-1c0174db84ae",
   "metadata": {},
   "source": [
    "#### 3.2.1. Neurotransmitter QC"
   ]
  },
  {
   "cell_type": "code",
   "execution_count": null,
   "id": "1d4e3db4-a04a-4ecd-b484-cea7cd6ca684",
   "metadata": {},
   "outputs": [],
   "source": [
    "source(\"/projects/perslab/people/jmg776/projects/DVC/code/flag_clusters.R\")\n",
    "\n",
    "neurons$dataset <- paste0(neurons$species, \".\", neurons$year)\n",
    "flagged.clusters <- flag.clusters(seurat.obj = neurons, genes = c(\"percent.mt\", \"Clic6\", \"Mbp\"),\n",
    "                                  resolution = \"integrated_snn_res.1\", quantile = 0.95)\n"
   ]
  },
  {
   "cell_type": "code",
   "execution_count": null,
   "id": "da509394-1df6-49c0-b980-e675631394a6",
   "metadata": {},
   "outputs": [],
   "source": [
    "# Update these plots, this is the new umap space \n",
    "FeaturePlot(neurons, features = \"percent.mt\", max.cutoff = \"q90\")\n",
    "FeaturePlot(neurons, features = \"Mbp\", max.cutoff = \"q90\")\n",
    "FeaturePlot(neurons, features = \"Clic6\", max.cutoff = \"q90\")"
   ]
  },
  {
   "cell_type": "code",
   "execution_count": null,
   "id": "b1b6ea93-e477-4281-a0fa-3f137ee119ca",
   "metadata": {
    "scrolled": true
   },
   "outputs": [],
   "source": [
    "# Checking cluster 47 and 50 since they had no neurotransmitter marker\n",
    "cluster_47_markers <- FindMarkers(neurons, ident.1 = 47)\n",
    "cluster_47_markers %>% filter(pct.2 < 0.5 & pct.1 > 0.7) %>% arrange(desc(avg_log2FC))"
   ]
  },
  {
   "cell_type": "code",
   "execution_count": null,
   "id": "140c1521-ad13-4d08-a304-788a8024508b",
   "metadata": {},
   "outputs": [],
   "source": [
    "serotonin.clusters <- 47 # Strong serotonin cluster\n",
    "neurons$neurotransmitter[which(neurons$integrated_snn_res.1 %in% serotonin.clusters)] <- \"Serotonin\""
   ]
  },
  {
   "cell_type": "code",
   "execution_count": null,
   "id": "a62091e0-656d-4204-90ec-e6e7870ae08e",
   "metadata": {},
   "outputs": [],
   "source": [
    "neurons <- subset(neurons, integrated_snn_res.1 %in% flagged.clusters, invert = TRUE)\n",
    "DefaultAssay(neurons) <- \"integrated\"\n",
    "dims <- 30\n",
    "neurons <- RunPCA(neurons, verbose = F, npcs = 100)\n",
    "neurons <- RunUMAP(neurons, dims = 1:dims, n.neighbors = 50, verbose = F)\n",
    "neurons <- FindNeighbors(neurons, dims = 1:dims, k.param = 50, verbose = F)\n",
    "neurons <- FindClusters(neurons, resolution = 0.1, verbose = F)\n",
    "neurons <- FindClusters(neurons, resolution = 1, verbose = F)"
   ]
  },
  {
   "cell_type": "code",
   "execution_count": null,
   "id": "78a6ab2c-0196-46de-b29e-a06fe2713899",
   "metadata": {},
   "outputs": [],
   "source": [
    "DimPlot(neurons, group.by = \"integrated_snn_res.1\", label = TRUE, raster = TRUE) + NoLegend()\n",
    "DimPlot(neurons, group.by = \"dataset\", raster = TRUE, shuffle = TRUE)\n",
    "DimPlot(neurons, group.by = \"treatment\", raster = TRUE, shuffle = TRUE)"
   ]
  },
  {
   "cell_type": "code",
   "execution_count": null,
   "id": "1713302a-077b-43e8-9686-2642804521c3",
   "metadata": {},
   "outputs": [],
   "source": [
    "options(repr.plot.width = 20, repr.plot.height = 10)\n",
    "DefaultAssay(neurons) <- \"RNA\"\n",
    "VlnPlot(neurons, features = \"Slc32a1\", group.by = \"integrated_snn_res.1\", pt.size = 0, raster = TRUE) + NoLegend() # GABA\n",
    "VlnPlot(neurons, features = \"Gad1\", group.by = \"integrated_snn_res.1\", pt.size = 0, raster = TRUE) + NoLegend() # GABA\n",
    "VlnPlot(neurons, features = \"Gad2\", group.by = \"integrated_snn_res.1\", pt.size = 0, raster = TRUE) + NoLegend() # GABA\n",
    "VlnPlot(neurons, features = \"Slc17a6\", group.by = \"integrated_snn_res.1\", pt.size = 0, raster = TRUE) + NoLegend() # Glutamate\n",
    "VlnPlot(neurons, features = \"Chat\", group.by = \"integrated_snn_res.1\", pt.size = 0, raster = TRUE) + NoLegend() # Acetylcholine\n",
    "VlnPlot(neurons, features = \"Slc6a4\", group.by = \"integrated_snn_res.1\", pt.size = 0, raster = TRUE) + NoLegend() # Serotonin"
   ]
  },
  {
   "cell_type": "code",
   "execution_count": null,
   "id": "757532ed-02c0-4ba1-8894-d40ce9bb380b",
   "metadata": {},
   "outputs": [],
   "source": [
    "glutamate.clusters <- c(0, 11, 12, 16, 17, 18, 20, 21, 22, 23, 24, 25, 26, 27, 28, 29,\n",
    "                        32, 34, 35, 36, 37, 38, 39, 41, 42, 43, 44, 45, 46, 48, 50, 52,\n",
    "                        7)\n",
    "GABA.clusters <- c(1, 10, 13, 14, 15, 2, 3, 31, 33, 38, 4, 40, 49, 5, 51, 53, 6, 8, 9)\n",
    "acetylcholine.clusters <- c(19, 30)\n",
    "serotonin.clusters <- 47\n",
    "\n",
    "neurons$neurotransmitter <- NA\n",
    "neurons$neurotransmitter[which(neurons$integrated_snn_res.1 %in% glutamate.clusters)] <- \"Glutamate\"\n",
    "neurons$neurotransmitter[which(neurons$integrated_snn_res.1 %in% GABA.clusters)] <- \"GABA\"\n",
    "neurons$neurotransmitter[which(neurons$integrated_snn_res.1 %in% acetylcholine.clusters)] <- \"Acetylcholine\"\n",
    "neurons$neurotransmitter[which(neurons$integrated_snn_res.1 %in% serotonin.clusters)] <- \"Serotonin\""
   ]
  },
  {
   "cell_type": "code",
   "execution_count": null,
   "id": "4520aed8-17d7-4dc0-84e3-add480c99611",
   "metadata": {},
   "outputs": [],
   "source": [
    "options(repr.plot.width = 10, repr.plot.height = 10)\n",
    "DimPlot(neurons, group.by = \"neurotransmitter\", raster = TRUE)"
   ]
  },
  {
   "cell_type": "markdown",
   "id": "2832651d-7d86-40be-ba13-a41a2fe303f0",
   "metadata": {},
   "source": [
    "#### 3.2.2. Subcluster neurotransmitter"
   ]
  },
  {
   "cell_type": "code",
   "execution_count": null,
   "id": "2a80a22a",
   "metadata": {
    "scrolled": true
   },
   "outputs": [],
   "source": [
    "# Subcluster glutamatergic neurons\n",
    "glutamate.neurons <- subset(neurons, neurotransmitter == \"Glutamate\")\n",
    "DefaultAssay(glutamate.neurons) <- \"integrated\"\n",
    "\n",
    "dims <- 30\n",
    "glutamate.neurons <- RunPCA(glutamate.neurons, verbose = F, npcs = 100)  \n",
    "glutamate.neurons <- FindNeighbors(glutamate.neurons, dims = 1:dims, k.param = 50, verbose = F)\n",
    "glutamate.neurons <- FindClusters(glutamate.neurons, resolution = 0.1, verbose = F) \n",
    "major.clusters <- unique(glutamate.neurons$integrated_snn_res.0.1)\n",
    "glutamate.neurons$sub.cluster <- \"\"\n",
    "\n",
    "for (i in major.clusters) {\n",
    "  \n",
    "  # Find subclusters\n",
    "  glutamate.neurons <- FindSubCluster(glutamate.neurons, graph.name = \"integrated_snn\", \n",
    "                                      subcluster.name = \"sub.cluster.i\", \n",
    "                                      cluster = i, resolution = 0.1)\n",
    "  \n",
    "  glutamate.neurons$sub.cluster[which(glutamate.neurons$integrated_snn_res.0.1 == i)] <-\n",
    "    glutamate.neurons$sub.cluster.i[which(glutamate.neurons$integrated_snn_res.0.1 == i)]\n",
    "  \n",
    "  # Remove tmp column\n",
    "  glutamate.neurons@meta.data <- glutamate.neurons@meta.data[,!(colnames(glutamate.neurons@meta.data) == \"sub.cluster.i\")]\n",
    "\n",
    "}\n",
    "\n",
    "glutamate.neurons <- RunUMAP(glutamate.neurons, dims = 1:dims, n.neighbors = 50)"
   ]
  },
  {
   "cell_type": "code",
   "execution_count": null,
   "id": "db53af5e",
   "metadata": {
    "scrolled": true
   },
   "outputs": [],
   "source": [
    "# Subcluster GABAergic neurons\n",
    "GABA.neurons <- subset(neurons, neurotransmitter == \"GABA\")\n",
    "DefaultAssay(GABA.neurons) <- \"integrated\"\n",
    "\n",
    "dims <- 30\n",
    "GABA.neurons <- RunPCA(GABA.neurons, verbose = F, npcs = 100) \n",
    "GABA.neurons <- FindNeighbors(GABA.neurons, dims = 1:dims, k.param = 50, verbose = F)\n",
    "GABA.neurons <- FindClusters(GABA.neurons, resolution = 0.1, verbose = F) \n",
    "major.clusters <- unique(GABA.neurons$integrated_snn_res.0.1)\n",
    "GABA.neurons$sub.cluster <- \"\"\n",
    "\n",
    "for (i in major.clusters) {\n",
    "  \n",
    "  # Find subclusters\n",
    "  GABA.neurons <- FindSubCluster(GABA.neurons, graph.name = \"integrated_snn\", \n",
    "                                      subcluster.name = \"sub.cluster.i\", \n",
    "                                      cluster = i, resolution = 0.1)\n",
    "  \n",
    "  GABA.neurons$sub.cluster[which(GABA.neurons$integrated_snn_res.0.1 == i)] <-\n",
    "    GABA.neurons$sub.cluster.i[which(GABA.neurons$integrated_snn_res.0.1 == i)]\n",
    "  \n",
    "  # Remove tmp column\n",
    "  GABA.neurons@meta.data <- GABA.neurons@meta.data[,!(colnames(GABA.neurons@meta.data) == \"sub.cluster.i\")]\n",
    "\n",
    "}\n",
    "\n",
    "GABA.neurons <- RunUMAP(GABA.neurons, dims = 1:dims, n.neighbors = 50)"
   ]
  },
  {
   "cell_type": "code",
   "execution_count": null,
   "id": "4c13ebc3",
   "metadata": {},
   "outputs": [],
   "source": [
    "# Save temporary subclusters\n",
    "neurons$sub.cluster <- NA\n",
    "neurons$sub.cluster[match(colnames(GABA.neurons), colnames(neurons))] <- \n",
    "  paste0(\"GABA_\", GABA.neurons$sub.cluster) \n",
    "neurons$sub.cluster[match(colnames(glutamate.neurons), colnames(neurons))] <- \n",
    "  paste0(\"Glu_\", glutamate.neurons$sub.cluster) \n",
    "neurons$sub.cluster[which(neurons$neurotransmitter == \"Acetylcholine\")] <-\n",
    "  paste0(\"Chat_\", neurons$integrated_snn_res.1[which(neurons$neurotransmitter == \"Acetylcholine\")])\n",
    "neurons$sub.cluster[which(neurons$neurotransmitter == \"Serotonin\")] <-\n",
    "  paste0(\"Sero_\", neurons$integrated_snn_res.1[which(neurons$neurotransmitter == \"Serotonin\")])"
   ]
  },
  {
   "cell_type": "markdown",
   "id": "46b3e719-3b91-4030-baa8-2196541f47eb",
   "metadata": {},
   "source": [
    "#### 3.2.3 CELLEX"
   ]
  },
  {
   "cell_type": "code",
   "execution_count": null,
   "id": "e680e7bb-e292-4963-834e-d0d6b3681ce9",
   "metadata": {},
   "outputs": [],
   "source": [
    "use_condaenv(\"/home/jmg776/.conda/envs/CELLEX\")\n",
    "cellex <- import(\"cellex\", convert = FALSE)\n",
    "pd <- import(\"pandas\", convert = FALSE)"
   ]
  },
  {
   "cell_type": "code",
   "execution_count": null,
   "id": "202758bb-f980-4782-95e0-349a15f6e6fd",
   "metadata": {},
   "outputs": [],
   "source": [
    "# Grab counts\n",
    "counts_glu <- as.data.frame(GetAssayData(subset(neurons, neurotransmitter == \"Glutamate\"), assay = \"RNA\", layer = \"counts\"))\n",
    "counts_GABA <- as.data.frame(GetAssayData(subset(neurons, neurotransmitter == \"GABA\"), assay = \"RNA\", layer = \"counts\"))\n",
    "\n",
    "# Grab meta data\n",
    "meta_glu <- subset(neurons, neurotransmitter == \"Glutamate\")$sub.cluster %>% as.data.frame()\n",
    "meta_GABA <- subset(neurons, neurotransmitter == \"GABA\")$sub.cluster %>% as.data.frame()"
   ]
  },
  {
   "cell_type": "code",
   "execution_count": null,
   "id": "dc648756-8fa2-4139-9211-f2a46fdf73be",
   "metadata": {},
   "outputs": [],
   "source": [
    "# Run CELLEX\n",
    "eso_glu <- cellex$ESObject(data = counts_glu, annotation = meta_glu, normalize = TRUE, verbose = TRUE)\n",
    "eso_glu$compute(verbose = TRUE)\n",
    "eso_glu$results$esmu$to_csv(\"/projects/perslab/people/jmg776/projects/DVC/output/CELLEX/output/neurons_glu_2025.esmu.csv\")\n",
    "\n",
    "eso_GABA <- cellex$ESObject(data = counts_GABA, annotation = meta_GABA, normalize = TRUE, verbose = TRUE)\n",
    "eso_GABA$compute(verbose = TRUE)\n",
    "eso_GABA$results$esmu$to_csv(\"/projects/perslab/people/jmg776/projects/DVC/output/CELLEX/output/neurons_GABA_2025.esmu.csv\")"
   ]
  },
  {
   "cell_type": "code",
   "execution_count": null,
   "id": "03be3735-9e11-4cfd-ab6b-a9456240a403",
   "metadata": {},
   "outputs": [],
   "source": [
    "# Load in CELLEX results\n",
    "cellex.glutamate <- read.csv(\"/projects/perslab/people/jmg776/projects/DVC/output/CELLEX/output/neurons_glu_2025.esmu.csv\")\n",
    "rownames(cellex.glutamate) <- cellex.glutamate$gene\n",
    "cellex.glutamate <- cellex.glutamate[, -1]\n",
    "\n",
    "cellex.GABA <- read.csv(\"/projects/perslab/people/jmg776/projects/DVC/output/CELLEX/output/neurons_GABA_2025.esmu.csv\")\n",
    "rownames(cellex.GABA) <- cellex.GABA$gene\n",
    "cellex.GABA <- cellex.GABA[, -1]"
   ]
  },
  {
   "cell_type": "code",
   "execution_count": null,
   "id": "ff19bf00-916c-48e7-bcee-a8a8f0770ce9",
   "metadata": {},
   "outputs": [],
   "source": [
    "DimPlot(glutamate.neurons, group.by = \"integrated_snn_res.0.1\", label = TRUE, raster = TRUE)\n",
    "DimPlot(glutamate.neurons, group.by = \"sub.cluster\", label = TRUE, raster = TRUE) + NoLegend()\n",
    "DimPlot(GABA.neurons, group.by = \"integrated_snn_res.0.1\", label = TRUE, raster = TRUE)\n",
    "DimPlot(GABA.neurons, group.by = \"sub.cluster\", label = TRUE, raster = TRUE) + NoLegend()"
   ]
  },
  {
   "cell_type": "code",
   "execution_count": null,
   "id": "f772c719-c991-4422-a573-ce50eea1c29f",
   "metadata": {},
   "outputs": [],
   "source": [
    "glutamate.dendro <- as.dendrogram(hclust(dist(t(cellex.glutamate), method = \"euclidean\")))\n",
    "glutamate.dendro <- dendro_data(glutamate.dendro)\n",
    "ggdendrogram(glutamate.dendro, rotate = FALSE, size = 2)\n",
    "\n",
    "GABA.dendro <- as.dendrogram(hclust(dist(t(cellex.GABA), method = \"euclidean\")))\n",
    "GABA.dendro <- dendro_data(GABA.dendro)\n",
    "ggdendrogram(GABA.dendro, rotate = FALSE, size = 2)"
   ]
  },
  {
   "cell_type": "markdown",
   "id": "a2c7a9ee-761b-4461-b9fd-7d8cc1767357",
   "metadata": {},
   "source": [
    "#### 3.2.4. Merge clusters"
   ]
  },
  {
   "cell_type": "code",
   "execution_count": null,
   "id": "fb5d006d-34d9-4adb-9d53-917171f2cc04",
   "metadata": {},
   "outputs": [],
   "source": [
    "# Glutamate\n",
    "for (cell.type in colnames(cellex.glutamate)) {\n",
    "  \n",
    "  neighbors <- colnames(cellex.glutamate)[grep(gsub(\"_[0-9]$\", \"\", cell.type), colnames(cellex.glutamate))]\n",
    "  neighbors <- neighbors[which(neighbors != cell.type)]\n",
    "\n",
    "  idx.cell.type <- which(glutamate.neurons$sub.cluster == cell.type)\n",
    "  \n",
    "  # Markers of cell type\n",
    "  markers.cell.type <- rownames(cellex.glutamate)[order(cellex.glutamate[, cell.type], decreasing = T)] \n",
    "  markers.cell.type <- which(apply(glutamate.neurons@assays$RNA@counts[markers.cell.type, idx.cell.type], 1, \n",
    "                          function(x) {sum(x != 0)}) >= (length(idx.cell.type)/5))\n",
    "  markers.cell.type <- names(markers.cell.type)[1:50]\n",
    "  \n",
    "  for (neighbor in neighbors) {\n",
    "    \n",
    "    idx.neighbor <- which(glutamate.neurons$sub.cluster == neighbor)\n",
    "    \n",
    "    # Markers of two nearest neighbors\n",
    "    # Neighbor 1\n",
    "    markers.neighbor <- rownames(cellex.glutamate)[order(cellex.glutamate[, neighbor], decreasing = T)] \n",
    "    markers.neighbor <- which(apply(glutamate.neurons@assays$RNA@counts[markers.neighbor, idx.neighbor], 1, \n",
    "                            function(x) {sum(x != 0)}) >= (length(idx.neighbor)/5))\n",
    "    markers.neighbor <- names(markers.neighbor)[1:50]\n",
    "\n",
    "    unique.markers <- length(c(which(cellex.glutamate[markers.cell.type, neighbor] == 0), \n",
    "                             which(cellex.glutamate[markers.neighbor, cell.type] == 0)))\n",
    "    \n",
    "    n <- 10\n",
    "    if (unique.markers < n) {\n",
    "      print(paste0(cell.type, \" and \", neighbor, \" lack unique markers\")) \n",
    "    }\n",
    "  }\n",
    "}"
   ]
  },
  {
   "cell_type": "code",
   "execution_count": null,
   "id": "af26f1a5-0ed2-467e-a59f-5d19c04ff7fb",
   "metadata": {},
   "outputs": [],
   "source": [
    "# GABA\n",
    "for (cell.type in colnames(cellex.GABA)) {\n",
    "  \n",
    "  neighbors <- colnames(cellex.GABA)[grep(gsub(\"_[0-9]$\", \"\", cell.type), colnames(cellex.GABA))]\n",
    "  neighbors <- neighbors[which(neighbors != cell.type)]\n",
    "\n",
    "  idx.cell.type <- which(GABA.neurons$sub.cluster == cell.type)\n",
    "  \n",
    "  # Markers of cell type\n",
    "  markers.cell.type <- rownames(cellex.GABA)[order(cellex.GABA[, cell.type], decreasing = T)] \n",
    "  markers.cell.type <- which(apply(GABA.neurons@assays$RNA@counts[markers.cell.type, idx.cell.type], 1, \n",
    "                          function(x) {sum(x != 0)}) >= (length(idx.cell.type)/5))\n",
    "  markers.cell.type <- names(markers.cell.type)[1:50]\n",
    "  \n",
    "  for (neighbor in neighbors) {\n",
    "    \n",
    "    idx.neighbor <- which(GABA.neurons$sub.cluster == neighbor)\n",
    "    \n",
    "    # Markers of two nearest neighbors\n",
    "    # Neighbor 1\n",
    "    markers.neighbor <- rownames(cellex.GABA)[order(cellex.GABA[, neighbor], decreasing = T)] \n",
    "    markers.neighbor <- which(apply(GABA.neurons@assays$RNA@counts[markers.neighbor, idx.neighbor], 1, \n",
    "                            function(x) {sum(x != 0)}) >= (length(idx.neighbor)/5))\n",
    "    markers.neighbor <- names(markers.neighbor)[1:50]\n",
    "\n",
    "    unique.markers <- length(c(which(cellex.GABA[markers.cell.type, neighbor] == 0), \n",
    "                             which(cellex.GABA[markers.neighbor, cell.type] == 0)))\n",
    "    \n",
    "    n <- 10\n",
    "    if (unique.markers < n) {\n",
    "      print(paste0(cell.type, \" and \", neighbor, \" lack unique markers\")) \n",
    "    }\n",
    "  }\n",
    "}"
   ]
  },
  {
   "cell_type": "code",
   "execution_count": null,
   "id": "4537099e-66f4-4a1d-9051-485e59f6b337",
   "metadata": {},
   "outputs": [],
   "source": [
    "sort(unique(neurons$sub.cluster))"
   ]
  },
  {
   "cell_type": "code",
   "execution_count": null,
   "id": "e228ff9a-2de7-4923-8158-ea4256404ded",
   "metadata": {},
   "outputs": [],
   "source": [
    "# Glutamate\n",
    "neurons$cell.type <- neurons$sub.cluster\n",
    "neurons$cell.type[which(neurons$cell.type %in% c(\"Glu_1_0\", \"Glu_1_1\"))] <- \"Glu_1_0\"\n",
    "neurons$cell.type[which(neurons$cell.type == \"Glu_1_2\")] <- \"Glu_1_1\"\n",
    "neurons$cell.type[which(neurons$cell.type %in% c(\"Glu_9_0\", \"Glu_9_1\"))] <- \"Glu_9_0\"\n",
    "\n",
    "# GABA\n",
    "neurons$cell.type[which(neurons$cell.type %in% c(\"GABA_7_0\", \"GABA_7_1\"))] <- \"GABA_7_0\"\n",
    "neurons$cell.type[which(neurons$cell.type %in% c(\"GABA_1_0\", \"GABA_1_2\"))] <- \"GABA_1_0\"\n",
    "neurons$cell.type[which(neurons$cell.type == \"GABA_1_3\")] <- \"GABA_1_2\"\n",
    "\n",
    "# Acetylcholine\n",
    "neurons$cell.type <- gsub(\"Chat_19\", \"Chat_0_0\", neurons$cell.type)\n",
    "neurons$cell.type <- gsub(\"Chat_30\", \"Chat_1_0\", neurons$cell.type)\n",
    "\n",
    "# Serotonin\n",
    "neurons$cell.type <- gsub(\"Sero_47\", \"Sero_0_0\", neurons$cell.type)"
   ]
  },
  {
   "cell_type": "code",
   "execution_count": null,
   "id": "04438f18-0ffb-4cf6-9b7d-907c7f5d52df",
   "metadata": {},
   "outputs": [],
   "source": [
    "neurons$major.cell.type <- \"\"\n",
    "neurons$major.cell.type[match(colnames(glutamate.neurons), colnames(neurons))] <- paste0(\"Glu_\", glutamate.neurons$integrated_snn_res.0.1)\n",
    "neurons$major.cell.type[match(colnames(GABA.neurons), colnames(neurons))] <- paste0(\"GABA_\", GABA.neurons$integrated_snn_res.0.1)\n",
    "neurons$major.cell.type[grep(\"Chat\", neurons$cell.type)] <- gsub(\"_0$\", \"\", neurons$cell.type[grep(\"Chat\", neurons$cell.type)])\n",
    "neurons$major.cell.type[grep(\"Sero\", neurons$cell.type)] <- gsub(\"_0$\", \"\", neurons$cell.type[grep(\"Sero\", neurons$cell.type)])"
   ]
  },
  {
   "cell_type": "code",
   "execution_count": null,
   "id": "ee7742de-e537-4d86-a3cf-565683fd5531",
   "metadata": {},
   "outputs": [],
   "source": [
    "options(repr.plot.width = 15, repr.plot.height = 15)\n",
    "DimPlot(neurons, group.by = \"cell.type\", cols = sample(rainbow(length(unique(neurons$cell.type)))), label = TRUE, raster = TRUE) + NoLegend()  # Dont mind the colors, its just to have hard contrasts to check cluster partitions"
   ]
  },
  {
   "cell_type": "code",
   "execution_count": null,
   "id": "3fb94056-a2df-4d44-a09e-5004cdb3ebba",
   "metadata": {},
   "outputs": [],
   "source": [
    "saveRDS(neurons, file = \"/projects/perslab/people/jmg776/projects/DVC/output/Seurat_objs/integrated/neurons_finalized_2025.rds\")"
   ]
  },
  {
   "cell_type": "markdown",
   "id": "5295588f-eb9d-4764-be5e-ddfe69921e7d",
   "metadata": {},
   "source": [
    "### 3.3 CELLEX by species (marker genes)"
   ]
  },
  {
   "cell_type": "code",
   "execution_count": null,
   "id": "53cf2ed0-b347-4337-8298-7361a20e9e09",
   "metadata": {},
   "outputs": [],
   "source": [
    "# Grab counts\n",
    "counts_mouse <- as.data.frame(GetAssayData(subset(neurons, species == \"mouse\"), assay = \"RNA\", layer = \"counts\"))\n",
    "counts_rat <- as.data.frame(GetAssayData(subset(neurons, species == \"rat\"), assay = \"RNA\", layer = \"counts\"))\n",
    "counts_macaque <- as.data.frame(GetAssayData(subset(neurons, species == \"macaque\"), assay = \"RNA\", layer = \"counts\"))\n",
    "\n",
    "# Grab meta data\n",
    "meta_mouse <- subset(neurons, species == \"mouse\")$cell.type %>% as.data.frame()\n",
    "meta_rat <- subset(neurons, species == \"rat\")$cell.type %>% as.data.frame()\n",
    "meta_macaque <- subset(neurons, species == \"macaque\")$cell.type %>% as.data.frame()"
   ]
  },
  {
   "cell_type": "code",
   "execution_count": null,
   "id": "973c5875-1c0f-4c5b-b46f-fcdfb47bda57",
   "metadata": {},
   "outputs": [],
   "source": [
    "# Run CELLEX\n",
    "eso_mouse <- cellex$ESObject(data = counts_mouse, annotation = meta_mouse, normalize = TRUE, verbose = TRUE)\n",
    "eso_mouse$compute(verbose = TRUE)\n",
    "eso_mouse$results$esmu$to_csv(\"/projects/perslab/people/jmg776/projects/DVC/output/CELLEX/output/neurons_mouse_2025.esmu.csv\")\n",
    "\n",
    "eso_rat <- cellex$ESObject(data = counts_rat, annotation = meta_rat, normalize = TRUE, verbose = TRUE)\n",
    "eso_rat$compute(verbose = TRUE)\n",
    "eso_rat$results$esmu$to_csv(\"/projects/perslab/people/jmg776/projects/DVC/output/CELLEX/output/neurons_rat_2025.esmu.csv\")\n",
    "\n",
    "eso_macaque <- cellex$ESObject(data = counts_macaque, annotation = meta_macaque, normalize = TRUE, verbose = TRUE)\n",
    "eso_macaque$compute(verbose = TRUE)\n",
    "eso_macaque$results$esmu$to_csv(\"/projects/perslab/people/jmg776/projects/DVC/output/CELLEX/output/neurons_macaque_2025.esmu.csv\")"
   ]
  }
 ],
 "metadata": {
  "kernelspec": {
   "display_name": "R 4.3.2",
   "language": "R",
   "name": "ir432"
  },
  "language_info": {
   "codemirror_mode": "r",
   "file_extension": ".r",
   "mimetype": "text/x-r-source",
   "name": "R",
   "pygments_lexer": "r",
   "version": "4.3.2"
  }
 },
 "nbformat": 4,
 "nbformat_minor": 5
}
