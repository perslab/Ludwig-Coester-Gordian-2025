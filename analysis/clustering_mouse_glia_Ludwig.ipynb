{
 "cells": [
  {
   "cell_type": "code",
   "execution_count": null,
   "id": "f65ee52f-b41c-4a3a-b574-0caef014f457",
   "metadata": {},
   "outputs": [],
   "source": [
    "library(Seurat)\n",
    "library(ggplot2)"
   ]
  },
  {
   "cell_type": "markdown",
   "id": "109d550d-9b54-48a8-8302-85d2a95d4935",
   "metadata": {
    "lines_to_next_cell": 0
   },
   "source": [
    "# Load data"
   ]
  },
  {
   "cell_type": "code",
   "execution_count": null,
   "id": "599b5ac3-fa2d-4480-a791-42263247b1f7",
   "metadata": {},
   "outputs": [],
   "source": [
    "mouse <- readRDS(\"/projects/mludwig/DVC/output/Seurat_objs/mouse/mouse_Ludwig_Seurat_obj.rds\")"
   ]
  },
  {
   "cell_type": "markdown",
   "id": "03ac6687-c18f-471c-8d7b-a235bc317d49",
   "metadata": {
    "lines_to_next_cell": 0
   },
   "source": [
    "# Subset glia"
   ]
  },
  {
   "cell_type": "code",
   "execution_count": null,
   "id": "2bc5ca24-fa3b-4173-8115-cdb16fa5d45f",
   "metadata": {},
   "outputs": [],
   "source": [
    "mouse.glia <- subset(mouse, subset = SCT_snn_res.0.1 %in% c(0, 2, 3, 5, 6, 7, 8),\n",
    "                     invert = T)"
   ]
  },
  {
   "cell_type": "markdown",
   "id": "78b3a181-9c75-4894-99e0-566d604f416d",
   "metadata": {
    "lines_to_next_cell": 0
   },
   "source": [
    "# Run data normalization"
   ]
  },
  {
   "cell_type": "code",
   "execution_count": null,
   "id": "4bba437f-ee12-4670-9eb7-d13018d428d3",
   "metadata": {},
   "outputs": [],
   "source": [
    "mouse.glia <- SCTransform(mouse.glia, verbose = F, method = \"qpoisson\")"
   ]
  },
  {
   "cell_type": "markdown",
   "id": "e51af3ee-c328-43b2-93be-10923c0ea86e",
   "metadata": {
    "lines_to_next_cell": 0
   },
   "source": [
    "# Run dimensionality reduction"
   ]
  },
  {
   "cell_type": "code",
   "execution_count": null,
   "id": "37fe4280-b38b-499c-bdba-f634399132b5",
   "metadata": {},
   "outputs": [],
   "source": [
    "# PCA\n",
    "mouse.glia <- RunPCA(mouse.glia, npcs = 100, verbose = F)\n",
    "\n",
    "# Select number of PCs\n",
    "ElbowPlot(mouse.glia, ndims = 100)\n",
    "\n",
    "# UMAP\n",
    "dims  <- 30\n",
    "mouse.glia <- RunUMAP(mouse.glia, dims = 1:dims, n.neighbors = 50)"
   ]
  },
  {
   "cell_type": "markdown",
   "id": "41a02a65-f7f3-4d03-92f9-53e2363e9681",
   "metadata": {
    "lines_to_next_cell": 0
   },
   "source": [
    "# Find clusters"
   ]
  },
  {
   "cell_type": "code",
   "execution_count": null,
   "id": "977dd219-1fd3-4025-9605-8941a8b76275",
   "metadata": {},
   "outputs": [],
   "source": [
    "mouse.glia <- FindNeighbors(mouse.glia, dims = 1:dims, verbose = F, k.param = 50)\n",
    "mouse.glia <- FindClusters(mouse.glia, resolution = 0.1, verbose = F)\n",
    "mouse.glia <- FindClusters(mouse.glia, resolution = 1, verbose = F)"
   ]
  },
  {
   "cell_type": "markdown",
   "id": "7501dbfa-9d48-4295-87c1-478d424d4076",
   "metadata": {
    "lines_to_next_cell": 0
   },
   "source": [
    "# Save"
   ]
  },
  {
   "cell_type": "code",
   "execution_count": null,
   "id": "8956b6cf-ebd7-4e45-ac98-658c0eaba546",
   "metadata": {},
   "outputs": [],
   "source": [
    "mouse.glia@meta.data <- mouse.glia@meta.data[, c(\"nCount_RNA\", \"nFeature_RNA\", \n",
    "                                                 \"nCount_SCT\", \"nFeature_SCT\",\n",
    "                                                 \"percent.mt\", \"pool\", \"hash.ID\", \n",
    "                                                 \"treatment\", \"run\",\n",
    "                                                 \"SCT_snn_res.0.1\")]\n",
    "\n",
    "saveRDS(mouse.glia, \n",
    "        file = \"/projects/mludwig/DVC/output/Seurat_objs/mouse/mouse_glia_Ludwig_Seurat_obj.rds\")"
   ]
  }
 ],
 "metadata": {
  "kernelspec": {
   "display_name": "conda_py3.11",
   "language": "python",
   "name": "conda_py3.11"
  },
  "language_info": {
   "codemirror_mode": {
    "name": "ipython",
    "version": 3
   },
   "file_extension": ".py",
   "mimetype": "text/x-python",
   "name": "python",
   "nbconvert_exporter": "python",
   "pygments_lexer": "ipython3",
   "version": "3.11.9"
  }
 },
 "nbformat": 4,
 "nbformat_minor": 5
}
