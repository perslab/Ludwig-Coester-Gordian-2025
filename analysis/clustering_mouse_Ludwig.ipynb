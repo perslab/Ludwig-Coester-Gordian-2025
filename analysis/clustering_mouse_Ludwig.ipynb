{
 "cells": [
  {
   "cell_type": "code",
   "execution_count": null,
   "id": "c92ca605-48f9-4d8f-a765-b111896b5bdc",
   "metadata": {},
   "outputs": [],
   "source": [
    "library(Seurat)"
   ]
  },
  {
   "cell_type": "markdown",
   "id": "f7b04e15-b282-4357-9b70-95d7879da836",
   "metadata": {
    "lines_to_next_cell": 0
   },
   "source": [
    "# Generate new Seurat objects after running CellBender and Cell Ranger"
   ]
  },
  {
   "cell_type": "code",
   "execution_count": null,
   "id": "bdea3856-aad6-491e-85b3-27a02ba9b2ac",
   "metadata": {},
   "outputs": [],
   "source": [
    "# # Run within scratch \n",
    "# cellbender.dir <- \"/projects/mludwig/DVC/data/cellbender/mouse/Ludwig/\"\n",
    "# \n",
    "# cellranger.dir <- \"/projects/mludwig/DVC/data/data-runs/mouse/Ludwig/\"\n",
    "# \n",
    "# prefix <- list.files(path=cellbender.dir, pattern=NULL, all.files=FALSE,\n",
    "#                     full.names=FALSE)\n",
    "# \n",
    "# suffix <- paste0(prefix, \"_filtered.h5\")\n",
    "# \n",
    "# final.list <- vector(mode = \"list\", length = length(prefix))\n",
    "# \n",
    "# for (i in 1:length(prefix)) {\n",
    "#   \n",
    "#   print(i)\n",
    "# \n",
    "#   sample <- gsub(\".*_\", \"\", prefix[i])\n",
    "# \n",
    "#   counts.path <- paste0(cellbender.dir, prefix[i], \"/\", suffix[i])\n",
    "#   counts <- Read10X_h5(counts.path, use.names = T)\n",
    "# \n",
    "#   counts.cellranger.path <- paste0(cellranger.dir, prefix[i], \"/\",\n",
    "#                                    \"outs\", \"/\", \"filtered_feature_bc_matrix\")\n",
    "#   counts.cellranger <- Read10X(counts.cellranger.path)\n",
    "# \n",
    "# \n",
    "#   counts <- counts[, which(colnames(counts) %in% colnames(counts.cellranger))]\n",
    "#   colnames(counts) <- paste0(sample, \"_\", colnames(counts))\n",
    "#   colnames(counts) <- gsub(\"-[1-9]\", \"\", colnames(counts)) # remove -1 after cell bar codes to match\n",
    "# \n",
    "#   final.list[[i]] <- CreateSeuratObject(counts = counts)\n",
    "#   final.list[[i]]$sample <- sample\n",
    "#   final.list[[i]]$run <- sample\n",
    "#   final.list[[i]]$hash.ID <- sample\n",
    "# \n",
    "#   final.list[[i]]$treatment <- gsub(\"[0-9]+\", \"\", sample)\n",
    "#   final.list[[i]]$treatment <- gsub(\"W\", \"WM\", final.list[[i]]$treatment)\n",
    "#   final.list[[i]]$pool <- sample\n",
    "# \n",
    "# \n",
    "#   idx <- which(apply(final.list[[i]]@assays$RNA@counts, 2, sum) == 0)\n",
    "# \n",
    "# \n",
    "#   final.list[[i]] <- subset(final.list[[i]], cells = idx, invert = T)\n",
    "# \n",
    "#   final.list[[i]][[\"percent.mt\"]] <- PercentageFeatureSet(final.list[[i]],\n",
    "#                                                           pattern = \"^mt-\")\n",
    "# \n",
    "#   names(final.list)[i] <- sample\n",
    "# \n",
    "# }\n",
    "# \n",
    "# \n",
    "# saveRDS(final.list,\n",
    "#          file = \"/projects/mludwig/DVC/data/mouse_snRNA/Ludwig/seurat_obj_list.rds\")"
   ]
  },
  {
   "cell_type": "markdown",
   "id": "c2c048f8-4bd3-45ff-8917-7a5ebe784bc9",
   "metadata": {
    "lines_to_next_cell": 0
   },
   "source": [
    "# Load new preprocessed Ludwig et al. data"
   ]
  },
  {
   "cell_type": "code",
   "execution_count": null,
   "id": "4f65f26f-a109-40f3-9a11-c2a091984703",
   "metadata": {},
   "outputs": [],
   "source": [
    "final.list <- readRDS(\"/projects/mludwig/DVC/data/mouse_snRNA/Ludwig/seurat_obj_list.rds\")\n",
    "\n",
    "# Filter data based on nUMIs and percent mitochondiral RNA\n",
    "mouse.list <- vector(mode = \"list\", length = length(final.list))\n",
    "names(mouse.list) <- names(final.list)\n",
    "\n",
    "for (i in 1:length(mouse.list)) {\n",
    "  mouse.list[[i]] <- subset(final.list[[i]], nCount_RNA > 1.5e+04 | nCount_RNA < 250 | percent.mt  > 2,\n",
    "                            invert = T)\n",
    "}"
   ]
  },
  {
   "cell_type": "markdown",
   "id": "1a562fdd-254d-474f-94b4-dd28ce998f27",
   "metadata": {
    "lines_to_next_cell": 0
   },
   "source": [
    "# Merge data"
   ]
  },
  {
   "cell_type": "code",
   "execution_count": null,
   "id": "69292888-7fdb-4ea3-a4bb-4f1897cf9132",
   "metadata": {},
   "outputs": [],
   "source": [
    "mouse <- merge(x = mouse.list[[1]], y = mouse.list[-1])"
   ]
  },
  {
   "cell_type": "markdown",
   "id": "61d861c3-3ce8-4082-97b7-0c36477dc7eb",
   "metadata": {
    "lines_to_next_cell": 0
   },
   "source": [
    "# Normalize"
   ]
  },
  {
   "cell_type": "code",
   "execution_count": null,
   "id": "5728117f-9d03-456d-82e9-0a504365aa6b",
   "metadata": {},
   "outputs": [],
   "source": [
    "mouse <- SCTransform(mouse, verbose = F, method = \"qpoisson\")"
   ]
  },
  {
   "cell_type": "markdown",
   "id": "77764cc0-f4d6-4b5a-b0c1-1d919d78b09f",
   "metadata": {
    "lines_to_next_cell": 0
   },
   "source": [
    "# Run dimensionality reduction and clustering"
   ]
  },
  {
   "cell_type": "code",
   "execution_count": null,
   "id": "3c590a2c-5370-44bc-8a65-7d015166a3b6",
   "metadata": {},
   "outputs": [],
   "source": [
    "# PCA\n",
    "VariableFeatures(mouse[[\"SCT\"]]) <- rownames(mouse[[\"SCT\"]]@scale.data)\n",
    "mouse <- RunPCA(mouse, verbose = F, npcs = 100)\n",
    "\n",
    "# Select number of PCs\n",
    "ElbowPlot(mouse, ndims = 100)\n",
    "\n",
    "# UMAP\n",
    "mouse <- RunUMAP(mouse, dims = 1:30, n.neighbors = 50)"
   ]
  },
  {
   "cell_type": "markdown",
   "id": "ec14db3e-66bf-4814-bc3d-65f475de43fa",
   "metadata": {
    "lines_to_next_cell": 0
   },
   "source": [
    "# Find clusters"
   ]
  },
  {
   "cell_type": "code",
   "execution_count": null,
   "id": "6dba1cdf-3e57-44c8-9c99-bef327a0eef5",
   "metadata": {},
   "outputs": [],
   "source": [
    "mouse <- FindNeighbors(mouse, dims = 1:30, k.param = 50, verbose = F)\n",
    "mouse <- FindClusters(mouse, resolution = 0.1, verbose = F)\n",
    "mouse <- FindClusters(mouse, resolution = 1, verbose = F)"
   ]
  },
  {
   "cell_type": "markdown",
   "id": "7d47735f-d32a-4953-bf35-56d65ddad026",
   "metadata": {
    "lines_to_next_cell": 0
   },
   "source": [
    "# Save "
   ]
  },
  {
   "cell_type": "code",
   "execution_count": null,
   "id": "a66c0d7c-0ec5-4832-933d-2c6232970026",
   "metadata": {},
   "outputs": [],
   "source": [
    "mouse@meta.data <- mouse@meta.data[, c(\"nCount_RNA\", \"nFeature_RNA\", \n",
    "                                       \"nCount_SCT\", \"nFeature_SCT\",\n",
    "                                       \"percent.mt\", \"pool\", \"hash.ID\", \n",
    "                                       \"treatment\", \"run\", \n",
    "                                       \"SCT_snn_res.0.1\", \"SCT_snn_res.1\")]\n",
    "\n",
    "saveRDS(mouse, file = \"/projects/mludwig/DVC/output/Seurat_objs/mouse/mouse_Ludwig_Seurat_obj.rds\")"
   ]
  }
 ],
 "metadata": {
  "kernelspec": {
   "display_name": "conda_py3.11",
   "language": "python",
   "name": "conda_py3.11"
  },
  "language_info": {
   "codemirror_mode": {
    "name": "ipython",
    "version": 3
   },
   "file_extension": ".py",
   "mimetype": "text/x-python",
   "name": "python",
   "nbconvert_exporter": "python",
   "pygments_lexer": "ipython3",
   "version": "3.11.9"
  }
 },
 "nbformat": 4,
 "nbformat_minor": 5
}
