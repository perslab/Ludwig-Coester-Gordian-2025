{
 "cells": [
  {
   "cell_type": "code",
   "execution_count": null,
   "id": "591dd226-02f3-4275-8861-43cada4a8465",
   "metadata": {},
   "outputs": [],
   "source": [
    "library(Seurat)\n",
    "library(ggplot2)\n",
    "library(openxlsx)\n",
    "library(Matrix)"
   ]
  },
  {
   "cell_type": "markdown",
   "id": "d5c3e672-40da-4789-8db7-7f6bd8d40870",
   "metadata": {
    "lines_to_next_cell": 0
   },
   "source": [
    "# Load data"
   ]
  },
  {
   "cell_type": "code",
   "execution_count": null,
   "id": "70592e51-f228-4cbd-84cf-5a3622b0c3e4",
   "metadata": {},
   "outputs": [],
   "source": [
    "# Mouse batch 1 \n",
    "# Not included due to high fraction of Ttr\n",
    "mouse1 <- readRDS(\"/projects/mludwig/DVC/data/mouse_snRNA/210420_DVC_seurat_obj.rds\")\n",
    "mouse1$hash.mcl.ID <- gsub(\"MIKG201201-|MIKG201202-\", \"\", mouse1$hash.mcl.ID)\n",
    "mouse1$hash.mcl.ID <- gsub(\"ID\", \"\", mouse1$hash.mcl.ID)\n",
    "mouse1$hash.mcl.ID <- gsub(\"AM1213-acute-DIO\", \"A1-A\", mouse1$hash.mcl.ID)\n",
    "mouse1$hash.mcl.ID <- gsub(\"AM1213-7-days-DIO\", \"A1-C\", mouse1$hash.mcl.ID)\n",
    "mouse1$hash.mcl.ID <- gsub(\"AM833-acute-DIO\", \"A8-A\", mouse1$hash.mcl.ID)\n",
    "mouse1$hash.mcl.ID <- gsub(\"AM833-7-days-DIO\", \"A8-C\", mouse1$hash.mcl.ID)\n",
    "mouse1$hash.mcl.ID <- gsub(\"Vehicle-acute-DIO\", \"V-A\", mouse1$hash.mcl.ID)\n",
    "mouse1$hash.mcl.ID <- gsub(\"Vehicle-7-days-DIO\", \"V-C\", mouse1$hash.mcl.ID)\n",
    "mouse1$hash.mcl.ID <- gsub(\"Vehicle-acute-lean\", \"L-A\", mouse1$hash.mcl.ID)\n",
    "mouse1$hash.mcl.ID <- gsub(\"VM-7-days-DIO\", \"WM-C\", mouse1$hash.mcl.ID)\n",
    "mouse1$treatment <- gsub(\"-[0-9]+\", \"\", mouse1$hash.mcl.ID)\n",
    "mouse1$pool <- mouse1$orig.ident\n",
    "mouse1$run <- \"mouse1\"\n",
    "mouse1[[\"percent.mt\"]] <- PercentageFeatureSet(mouse1, pattern = \"^mt-\")\n",
    "mouse1 <- subset(mouse1, nCount_RNA > 5e+04 | nCount_RNA < 500 | percent.mt  > 2, invert = T)\n",
    "\n",
    "\n",
    "# Mouse batch 2\n",
    "mouse2 <- readRDS(\"/projects/mludwig/DVC/data/mouse_snRNA/210518_DVC_seurat_obj.rds\")\n",
    "mouse2$hash.mcl.ID <- gsub(\"Vehicle-acute-DIO-ID26\", \"Vehicle-acute-lean-ID26\", mouse2$hash.mcl.ID)\n",
    "mouse2$hash.mcl.ID <- gsub(\"AM1213-acute-DIO\", \"A1-A\", mouse2$hash.mcl.ID)\n",
    "mouse2$hash.mcl.ID <- gsub(\"AM1213-7-days-DIO\", \"A1-C\", mouse2$hash.mcl.ID)\n",
    "mouse2$hash.mcl.ID <- gsub(\"AM833-acute-DIO\", \"A8-A\", mouse2$hash.mcl.ID)\n",
    "mouse2$hash.mcl.ID <- gsub(\"AM833-7-days-DIO\", \"A8-C\", mouse2$hash.mcl.ID)\n",
    "mouse2$hash.mcl.ID <- gsub(\"Vehicle-acute-DIO\", \"V-A\", mouse2$hash.mcl.ID)\n",
    "mouse2$hash.mcl.ID <- gsub(\"Vehicle-7-days-DIO\", \"V-C\", mouse2$hash.mcl.ID)\n",
    "mouse2$hash.mcl.ID <- gsub(\"Vehicle-acute-lean\", \"L-A\", mouse2$hash.mcl.ID)\n",
    "mouse2$hash.mcl.ID <- gsub(\"VM-7-days-DIO\", \"WM-C\", mouse2$hash.mcl.ID)\n",
    "mouse2$hash.mcl.ID <- gsub(\"ID\", \"\", mouse2$hash.mcl.ID)\n",
    "mouse2$treatment <- gsub(\"-[0-9]+\", \"\", mouse2$hash.mcl.ID)\n",
    "mouse2$pool <- mouse2$orig.ident\n",
    "mouse2$run <- \"mouse2\"\n",
    "mouse2[[\"percent.mt\"]] <- PercentageFeatureSet(mouse2, pattern = \"^mt-\")\n",
    "mouse2 <- subset(mouse2, nCount_RNA > 5e+04 | nCount_RNA < 500 | percent.mt  > 2, invert = T)\n",
    "\n",
    "\n",
    "# Mouse batch 3\n",
    "mouse3 <- readRDS(\"/projects/mludwig/DVC/data/mouse_snRNA/210708_DVC_1_seurat_obj.rds\")\n",
    "mouse3$treatment <- gsub(\"-[0-9]+\", \"\", mouse3$hash.mcl.ID)\n",
    "mouse3$pool <- mouse3$orig.ident\n",
    "mouse3$run <- \"mouse3\" \n",
    "mouse3[[\"percent.mt\"]] <- PercentageFeatureSet(mouse3, pattern = \"^mt-\")\n",
    "mouse3 <- subset(mouse3, nCount_RNA > 5e+04 | nCount_RNA < 500 | percent.mt  > 2, invert = T)\n",
    "\n",
    "\n",
    "# Mouse batch 4\n",
    "mouse4 <- readRDS(\"/projects/mludwig/DVC/data/mouse_snRNA/210708_DVC_2_seurat_obj.rds\")\n",
    "mouse4$treatment <- gsub(\"-[0-9]+\", \"\", mouse4$hash.mcl.ID)\n",
    "mouse4$pool <- mouse4$orig.ident\n",
    "mouse4$run <- \"mouse4\"\n",
    "mouse4[[\"percent.mt\"]] <- PercentageFeatureSet(mouse4, pattern = \"^mt-\")\n",
    "mouse4 <- subset(mouse4, nCount_RNA > 5e+04 | nCount_RNA < 500 | percent.mt  > 2, invert = T)\n",
    "\n",
    "\n",
    "# Mouse batch 5\n",
    "mouse5 <- readRDS(\"/projects/mludwig/DVC/data/mouse_snRNA/210708_DVC_3_seurat_obj.rds\")\n",
    "A8.barcodes <- read.csv(\"/projects/mludwig/DVC/data/mouse_snRNA/old_Dec22/SI-TT-A8_barcodes.txt\", header = F)\n",
    "C7.barcodes <- read.csv(\"/projects/mludwig/DVC/data/mouse_snRNA/old_Dec22/SI-TT-C7_barcodes.txt\", header = F)\n",
    "A8.C7.barcodes <- intersect(A8.barcodes$V1, C7.barcodes$V1)\n",
    "idx.remove <- which(gsub(\".*_\", \"\", colnames(mouse5)) %in% A8.C7.barcodes & mouse5$orig.ident == \"SI-TT-C7\")\n",
    "mouse5 <- subset(mouse5, cells = idx.remove, invert = T)\n",
    "mouse5$treatment <- gsub(\"-[0-9]+\", \"\", mouse5$hash.mcl.ID)\n",
    "mouse5$pool <- mouse5$orig.ident\n",
    "mouse5$run <- \"mouse5\"\n",
    "mouse5[[\"percent.mt\"]] <- PercentageFeatureSet(mouse5, pattern = \"^mt-\")\n",
    "mouse5 <- subset(mouse5, nCount_RNA > 5e+04 | nCount_RNA < 500 | percent.mt  > 2, invert = T)\n",
    "\n",
    "\n",
    "# Mouse batch 6\n",
    "mouse6 <- readRDS(\"/projects/mludwig/DVC/data/mouse_snRNA/211015_DVC_seurat_obj.rds\")\n",
    "mouse6$treatment <- gsub(\"-[0-9]+\", \"\", mouse6$hash.mcl.ID)\n",
    "mouse6$pool <- mouse6$orig.ident\n",
    "mouse6$run <- \"mouse6\"\n",
    "mouse6[[\"percent.mt\"]] <- PercentageFeatureSet(mouse6, pattern = \"^mt-\")\n",
    "mouse6 <- subset(mouse6, nCount_RNA > 5e+04 | nCount_RNA < 500 | percent.mt  > 2, invert = T)\n",
    "\n",
    "# Resequencing 1\n",
    "mouse7 <- readRDS(\"/projects/mludwig/DVC/data/mouse_snRNA/220208_DVC-reseq_0141_seurat_obj.rds\")\n",
    "mouse7$hash.mcl.ID <- gsub(\"VM\", \"WM\", mouse7$hash.mcl.ID)\n",
    "mouse7$treatment <- gsub(\"-[0-9]+\", \"\", mouse7$hash.mcl.ID)\n",
    "mouse7$pool <- mouse7$orig.ident\n",
    "mouse7$run <- \"mouse7\"\n",
    "mouse7[[\"percent.mt\"]] <- PercentageFeatureSet(mouse7, pattern = \"^mt-\")\n",
    "mouse7 <- subset(mouse7, nCount_RNA > 5e+04 | nCount_RNA < 500 | percent.mt  > 2, invert = T)\n",
    "# Remove pools originating from mouse batch 1 \n",
    "mouse7 <- subset(mouse7, pool %in% unique(mouse1$pool), invert = T)\n",
    "\n",
    "# Resequencing 2\n",
    "mouse8 <- readRDS(\"/projects/mludwig/DVC/data/mouse_snRNA/220208_DVC-reseq_0142_seurat_obj.rds\")\n",
    "mouse8$hash.mcl.ID <- gsub(\"VM\", \"WM\", mouse8$hash.mcl.ID)\n",
    "mouse8$treatment <- gsub(\"-[0-9]+\", \"\", mouse8$hash.mcl.ID)\n",
    "mouse8$pool <- mouse8$orig.ident\n",
    "mouse8$run <- \"mouse8\"\n",
    "mouse8[[\"percent.mt\"]] <- PercentageFeatureSet(mouse8, pattern = \"^mt-\")\n",
    "mouse8 <- subset(mouse8, nCount_RNA > 5e+04 | nCount_RNA < 500 | percent.mt  > 2, invert = T)\n",
    "\n",
    "# Resequencing 3\n",
    "mouse9 <- readRDS(\"/projects/mludwig/DVC/data/mouse_snRNA/220401_DVC_reseq_seurat_obj.rds\")\n",
    "mouse9$treatment <- gsub(\"-[0-9]+\", \"\", mouse9$hash.mcl.ID)\n",
    "mouse9$pool <- mouse9$orig.ident\n",
    "mouse9$run <- \"mouse9\"\n",
    "mouse9[[\"percent.mt\"]] <- PercentageFeatureSet(mouse9, pattern = \"^mt-\")\n",
    "mouse9 <- subset(mouse9, nCount_RNA > 5e+04 | nCount_RNA < 500 | percent.mt  > 2, invert = T)"
   ]
  },
  {
   "cell_type": "markdown",
   "id": "8d93f022-0264-47a5-88e6-88c6780d2fca",
   "metadata": {
    "lines_to_next_cell": 0
   },
   "source": [
    "# Merge data"
   ]
  },
  {
   "cell_type": "code",
   "execution_count": null,
   "id": "25f0cafd-80a9-4857-ae88-4d7a71ff6b24",
   "metadata": {},
   "outputs": [],
   "source": [
    "# Remove pools that have been resequenced\n",
    "resequenced.pools <- unique(c(mouse7$pool, mouse8$pool, mouse9$pool))\n",
    "# All mouse batch 1 are of bad quality\n",
    "# All pools originating from mouse batch 3 have been resequenced\n",
    "# All pools originating from mouse batch 4 have been resequenced \n",
    "mouse.list <- list(mouse2, mouse5, mouse6) \n",
    "\n",
    "names(mouse.list) <- c(\"mouse2\", \"mouse5\", \"mouse6\")\n",
    "\n",
    "for (i in 1:length(mouse.list)) {\n",
    "  mouse.list[[i]] <- subset(mouse.list[[i]], pool %in% resequenced.pools, invert = T)\n",
    "}\n",
    "\n",
    "mouse.list[[\"mouse7\"]] <- mouse7\n",
    "mouse.list[[\"mouse8\"]] <- mouse8\n",
    "mouse.list[[\"mouse9\"]] <- mouse9\n",
    "\n",
    "# Merge \n",
    "mouse <- merge(x = mouse.list[[1]], y = mouse.list[-1])\n",
    "mouse$hash.ID <- mouse$hash.mcl.ID"
   ]
  },
  {
   "cell_type": "markdown",
   "id": "50e4e383-af8a-4be6-8183-326672842c72",
   "metadata": {
    "lines_to_next_cell": 0
   },
   "source": [
    "# Normalize"
   ]
  },
  {
   "cell_type": "code",
   "execution_count": null,
   "id": "6ee0607d-4a72-4e3f-b935-46d83c6abf4b",
   "metadata": {},
   "outputs": [],
   "source": [
    "mouse <- SCTransform(mouse, verbose = F, method = \"qpoisson\")"
   ]
  },
  {
   "cell_type": "markdown",
   "id": "d4029791-73c8-4be1-b3a5-31f140906866",
   "metadata": {
    "lines_to_next_cell": 0
   },
   "source": [
    "# Run dimensionality reduction and clustering"
   ]
  },
  {
   "cell_type": "code",
   "execution_count": null,
   "id": "4fde655f-2d49-4eb3-bf7a-f8eee3cfa5e5",
   "metadata": {},
   "outputs": [],
   "source": [
    "# PCA\n",
    "VariableFeatures(mouse[[\"SCT\"]]) <- rownames(mouse[[\"SCT\"]]@scale.data)\n",
    "mouse <- RunPCA(mouse, verbose = F, npcs = 100)\n",
    "\n",
    "# Select number of PCs\n",
    "ElbowPlot(mouse, ndims = 100)\n",
    "\n",
    "# UMAP\n",
    "mouse <- RunUMAP(mouse, dims = 1:30, n.neighbors = 50)"
   ]
  },
  {
   "cell_type": "markdown",
   "id": "b7ff6dc2-1253-4b62-aead-ce77c762ff2d",
   "metadata": {
    "lines_to_next_cell": 0
   },
   "source": [
    "# Find clusters"
   ]
  },
  {
   "cell_type": "code",
   "execution_count": null,
   "id": "b66ba4f2-764e-4840-b75d-fb2d43959e9b",
   "metadata": {},
   "outputs": [],
   "source": [
    "mouse <- FindNeighbors(mouse, dims = 1:30, k.param = 50, verbose = F)\n",
    "mouse <- FindClusters(mouse, resolution = 0.1, verbose = F)\n",
    "mouse <- FindClusters(mouse, resolution = 1, verbose = F)"
   ]
  },
  {
   "cell_type": "markdown",
   "id": "576e6c04-e6d6-4039-bacf-6cd5b4162599",
   "metadata": {
    "lines_to_next_cell": 0
   },
   "source": [
    "# Save "
   ]
  },
  {
   "cell_type": "code",
   "execution_count": null,
   "id": "5c85f8fd-09c4-47b5-8acc-4c10890bc401",
   "metadata": {},
   "outputs": [],
   "source": [
    "mouse@meta.data <- mouse@meta.data[, c(\"nCount_RNA\", \"nFeature_RNA\", \"nCount_SCT\", \"nFeature_SCT\",\n",
    "                                       \"percent.mt\", \"pool\", \"hash.ID\", \"treatment\", \"run\", \n",
    "                                       \"SCT_snn_res.0.1\", \"SCT_snn_res.1\")]\n",
    "\n",
    "saveRDS(mouse, file = \"/projects/mludwig/DVC/output/Seurat_objs/mouse/mouse_Seurat_obj.rds\")"
   ]
  }
 ],
 "metadata": {
  "kernelspec": {
   "display_name": "conda_py3.11",
   "language": "python",
   "name": "conda_py3.11"
  },
  "language_info": {
   "codemirror_mode": {
    "name": "ipython",
    "version": 3
   },
   "file_extension": ".py",
   "mimetype": "text/x-python",
   "name": "python",
   "nbconvert_exporter": "python",
   "pygments_lexer": "ipython3",
   "version": "3.11.9"
  }
 },
 "nbformat": 4,
 "nbformat_minor": 5
}
