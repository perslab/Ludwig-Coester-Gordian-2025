{
 "cells": [
  {
   "cell_type": "code",
   "execution_count": null,
   "id": "94ff6e5f-e03a-415f-9682-5173f49c050f",
   "metadata": {},
   "outputs": [],
   "source": [
    "library(Seurat)\n",
    "library(ggplot2)"
   ]
  },
  {
   "cell_type": "markdown",
   "id": "1020b1f6-4c37-4dfc-a760-30670c82a270",
   "metadata": {
    "lines_to_next_cell": 0
   },
   "source": [
    "# Load data"
   ]
  },
  {
   "cell_type": "code",
   "execution_count": null,
   "id": "d639a935-4823-41de-8867-8c9011976a34",
   "metadata": {},
   "outputs": [],
   "source": [
    "mouse <- readRDS(\"/projects/mludwig/DVC/output/Seurat_objs/mouse/mouse_Seurat_obj.rds\")"
   ]
  },
  {
   "cell_type": "markdown",
   "id": "0929b495-710a-431c-bc00-ee006366a735",
   "metadata": {
    "lines_to_next_cell": 0
   },
   "source": [
    "# Subset glia"
   ]
  },
  {
   "cell_type": "code",
   "execution_count": null,
   "id": "9fb57871-1606-4429-8c13-9a71b92f8922",
   "metadata": {},
   "outputs": [],
   "source": [
    "mouse.glia <- subset(mouse, subset = SCT_snn_res.0.1 %in% c(0, 3, 4, 8, 9, 11),\n",
    "                     invert = T)"
   ]
  },
  {
   "cell_type": "markdown",
   "id": "32eee3a3-2cca-4601-851e-875bcaffc094",
   "metadata": {
    "lines_to_next_cell": 0
   },
   "source": [
    "# Run data normalization"
   ]
  },
  {
   "cell_type": "code",
   "execution_count": null,
   "id": "56cc45c1-3bb2-47e5-9b50-c3c527138cb1",
   "metadata": {},
   "outputs": [],
   "source": [
    "mouse.glia <- SCTransform(mouse.glia, verbose = F, method = \"qpoisson\")"
   ]
  },
  {
   "cell_type": "markdown",
   "id": "def46d38-7d74-4571-99de-459f2a45b7d5",
   "metadata": {
    "lines_to_next_cell": 0
   },
   "source": [
    "# Run dimensionality reduction"
   ]
  },
  {
   "cell_type": "code",
   "execution_count": null,
   "id": "1c518740-67d0-4580-a779-b67def7d2e7f",
   "metadata": {},
   "outputs": [],
   "source": [
    "# PCA\n",
    "mouse.glia <- RunPCA(mouse.glia, npcs = 100, verbose = F)\n",
    "\n",
    "# Select number of PCs\n",
    "ElbowPlot(mouse.glia, ndims = 100)\n",
    "\n",
    "# UMAP\n",
    "dims  <- 30\n",
    "mouse.glia <- RunUMAP(mouse.glia, dims = 1:dims, n.neighbors = 50)"
   ]
  },
  {
   "cell_type": "markdown",
   "id": "c2fa87ca-d774-4709-a478-768c00e8a32d",
   "metadata": {
    "lines_to_next_cell": 0
   },
   "source": [
    "# Find clusters"
   ]
  },
  {
   "cell_type": "code",
   "execution_count": null,
   "id": "84fc4c6f-1aaa-4693-bb4e-3abd2c6f23a5",
   "metadata": {},
   "outputs": [],
   "source": [
    "mouse.glia <- FindNeighbors(mouse.glia, dims = 1:dims, verbose = F, k.param = 50)\n",
    "mouse.glia <- FindClusters(mouse.glia, resolution = 0.1, verbose = F)\n",
    "mouse.glia <- FindClusters(mouse.glia, resolution = 1, verbose = F)"
   ]
  },
  {
   "cell_type": "markdown",
   "id": "e069f66c-d92e-4f1c-9830-bef92775fedc",
   "metadata": {
    "lines_to_next_cell": 0
   },
   "source": [
    "# Save"
   ]
  },
  {
   "cell_type": "code",
   "execution_count": null,
   "id": "3f04a42a-2422-47b3-9100-392099b1a4a8",
   "metadata": {},
   "outputs": [],
   "source": [
    "mouse.glia@meta.data <- mouse.glia@meta.data[, c(\"nCount_RNA\", \"nFeature_RNA\", \n",
    "                                                 \"nCount_SCT\", \"nFeature_SCT\",\n",
    "                                                 \"percent.mt\", \"pool\", \"hash.ID\", \n",
    "                                                 \"treatment\", \"run\",\n",
    "                                                 \"SCT_snn_res.0.1\")]\n",
    "\n",
    "saveRDS(mouse.glia, \n",
    "        file = \"/projects/mludwig/DVC/output/Seurat_objs/mouse/mouse_glia_Seurat_obj.rds\")"
   ]
  }
 ],
 "metadata": {
  "kernelspec": {
   "display_name": "conda_py3.11",
   "language": "python",
   "name": "conda_py3.11"
  },
  "language_info": {
   "codemirror_mode": {
    "name": "ipython",
    "version": 3
   },
   "file_extension": ".py",
   "mimetype": "text/x-python",
   "name": "python",
   "nbconvert_exporter": "python",
   "pygments_lexer": "ipython3",
   "version": "3.11.9"
  }
 },
 "nbformat": 4,
 "nbformat_minor": 5
}
