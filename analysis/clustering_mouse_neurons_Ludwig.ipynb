{
 "cells": [
  {
   "cell_type": "code",
   "execution_count": null,
   "id": "7c3b5a38-e1cf-4cc4-adff-88cad20c0534",
   "metadata": {},
   "outputs": [],
   "source": [
    "library(Seurat)\n",
    "library(ggplot2)"
   ]
  },
  {
   "cell_type": "markdown",
   "id": "b5a7e9e0-2b4e-4022-9f5c-3139fb0bfe7f",
   "metadata": {
    "lines_to_next_cell": 0
   },
   "source": [
    "# Load data"
   ]
  },
  {
   "cell_type": "code",
   "execution_count": null,
   "id": "2a9809c1-5fc9-4554-add4-741771d63262",
   "metadata": {},
   "outputs": [],
   "source": [
    "mouse <- readRDS(\"/projects/mludwig/DVC/output/Seurat_objs/mouse/mouse_Ludwig_Seurat_obj.rds\")"
   ]
  },
  {
   "cell_type": "markdown",
   "id": "6d1e1ed2-1d7a-450e-a641-9498afb6d275",
   "metadata": {
    "lines_to_next_cell": 0
   },
   "source": [
    "# Subset neurons"
   ]
  },
  {
   "cell_type": "code",
   "execution_count": null,
   "id": "462e0dec-2b56-4676-ae2c-26993c382cbd",
   "metadata": {},
   "outputs": [],
   "source": [
    "mouse.neurons <- subset(mouse, subset = SCT_snn_res.0.1 %in% c(0, 2, 3, 5, 6, 7, 8))"
   ]
  },
  {
   "cell_type": "markdown",
   "id": "4d918cd5-3ffe-46b1-9901-27709bc69b5a",
   "metadata": {
    "lines_to_next_cell": 0
   },
   "source": [
    "# Run data normalization"
   ]
  },
  {
   "cell_type": "code",
   "execution_count": null,
   "id": "c8c9fb56-43c0-4a2a-9adf-acefda64aef1",
   "metadata": {},
   "outputs": [],
   "source": [
    "mouse.neurons <- SCTransform(mouse.neurons, verbose = F, method = \"qpoisson\")"
   ]
  },
  {
   "cell_type": "markdown",
   "id": "fe62889f-484a-4997-91e3-04e8234016ed",
   "metadata": {
    "lines_to_next_cell": 0
   },
   "source": [
    "# Run dimensionality reduction"
   ]
  },
  {
   "cell_type": "code",
   "execution_count": null,
   "id": "11cf68e8-e2d0-4916-b9c2-6c8ea5061972",
   "metadata": {},
   "outputs": [],
   "source": [
    "# PCA\n",
    "mouse.neurons <- RunPCA(mouse.neurons, npcs = 100, verbose = F)\n",
    "\n",
    "# Select number of PCs\n",
    "ElbowPlot(mouse.neurons, ndims = 100)\n",
    "\n",
    "# UMAP\n",
    "dims <- 30\n",
    "mouse.neurons <- RunUMAP(mouse.neurons, dims = 1:dims, n.neighbors = 50)"
   ]
  },
  {
   "cell_type": "markdown",
   "id": "aa1c4247-df25-47d5-a3e3-dd051fdb157e",
   "metadata": {
    "lines_to_next_cell": 0
   },
   "source": [
    "# Find clusters"
   ]
  },
  {
   "cell_type": "code",
   "execution_count": null,
   "id": "2c52db87-494f-4344-adf9-e1ad29178c3c",
   "metadata": {},
   "outputs": [],
   "source": [
    "mouse.neurons <- FindNeighbors(mouse.neurons, dims = 1:dims, k.param = 50, verbose = F)\n",
    "mouse.neurons <- FindClusters(mouse.neurons, resolution = 0.1, verbose = F)\n",
    "mouse.neurons <- FindClusters(mouse.neurons, resolution = 1, verbose = F)"
   ]
  },
  {
   "cell_type": "markdown",
   "id": "f666fd8a-671f-43ea-be73-17a8194accd3",
   "metadata": {
    "lines_to_next_cell": 0
   },
   "source": [
    "# Save"
   ]
  },
  {
   "cell_type": "code",
   "execution_count": null,
   "id": "1ce2da05-5554-42a7-9ca6-1ceb7a996a71",
   "metadata": {},
   "outputs": [],
   "source": [
    "mouse.neurons@meta.data <- mouse.neurons@meta.data[, c(\"nCount_RNA\", \"nFeature_RNA\", \n",
    "                                                       \"nCount_SCT\", \"nFeature_SCT\",\n",
    "                                                       \"percent.mt\", \"pool\", \"hash.ID\", \n",
    "                                                       \"treatment\", \"run\",\n",
    "                                                       \"SCT_snn_res.0.1\")]\n",
    "saveRDS(mouse.neurons, \n",
    "        file = \"/projects/mludwig/DVC/output/Seurat_objs/mouse/mouse_neurons_Ludwig_Seurat_obj.rds\")"
   ]
  }
 ],
 "metadata": {
  "kernelspec": {
   "display_name": "conda_py3.11",
   "language": "python",
   "name": "conda_py3.11"
  },
  "language_info": {
   "codemirror_mode": {
    "name": "ipython",
    "version": 3
   },
   "file_extension": ".py",
   "mimetype": "text/x-python",
   "name": "python",
   "nbconvert_exporter": "python",
   "pygments_lexer": "ipython3",
   "version": "3.11.9"
  }
 },
 "nbformat": 4,
 "nbformat_minor": 5
}
