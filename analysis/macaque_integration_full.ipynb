{
 "cells": [
  {
   "cell_type": "code",
   "execution_count": null,
   "id": "97a4a8b0",
   "metadata": {},
   "outputs": [],
   "source": [
    "library(Seurat)\n",
    "library(tidyverse)\n",
    "options(repr.matrix.max.cols = 100)"
   ]
  },
  {
   "cell_type": "markdown",
   "id": "371c4321",
   "metadata": {},
   "source": [
    "# 1. Pre-processing"
   ]
  },
  {
   "cell_type": "markdown",
   "id": "6ab4b78c",
   "metadata": {},
   "source": [
    "## 1.1. Filter poor quality cells (low count, doublet, mitochondrial contamination) and pre-process"
   ]
  },
  {
   "cell_type": "code",
   "execution_count": null,
   "id": "811d9458",
   "metadata": {},
   "outputs": [],
   "source": [
    "mito.genes <- openxlsx::read.xlsx(\"/projects/perslab/people/jmg776/projects/DVC/data/gene_info/mito_genes.xlsx\")\n",
    "mito.genes <- mito.genes$Symbol[which(mito.genes$mm10_Chromosome == \"chrM\")]\n",
    "\n",
    "# macaque batch 1\n",
    "macaque1 <- readRDS(\"/projects/perslab/people/jmg776/projects/DVC/data/macaque_snRNA/220318_DVC_rhesus_seurat_obj.rds\")\n",
    "macaque1$hash.ID <- \"macaque_25865\"\n",
    "macaque1$run <- \"macaque1\"\n",
    "macaque1$area <- \"DVC\"\n",
    "macaque1$pool <- macaque1$orig.ident\n",
    "macaque1[[\"percent.mt\"]] <- PercentageFeatureSet(macaque1, features = intersect(rownames(macaque1@assays$SCT), mito.genes))\n",
    "\n",
    "macaque1 <- subset(macaque1, nCount_RNA > 50000 | nCount_RNA < 500 | percent.mt > 0.5, invert = T)\n",
    "\n",
    "# macaque batch 2\n",
    "macaque2 <- readRDS(\"/projects/perslab/people/jmg776/projects/DVC/data/macaque_snRNA/220408_DVC_rhesus_seurat_obj.rds\")\n",
    "macaque2$hash.ID <- \"\"\n",
    "macaque2$hash.ID[which(macaque2$hash.mcl.ID == 1)] <- \"macaque_30790\"\n",
    "macaque2$hash.ID[which(macaque2$hash.mcl.ID == 2)] <- \"macaque_30790\"\n",
    "macaque2$hash.ID[which(macaque2$hash.mcl.ID == 3)] <- \"macaque_20275\"\n",
    "macaque2$hash.ID[which(macaque2$hash.mcl.ID == 4)] <- \"macaque_20275\"\n",
    "macaque2$hash.ID[which(macaque2$hash.mcl.ID == 5)] <- \"macaque_24693\"\n",
    "macaque2$hash.ID[which(macaque2$hash.mcl.ID == 6)] <- \"macaque_24693\"\n",
    "macaque2$hash.ID[which(macaque2$hash.mcl.ID == 7)] <- \"macaque_24938\"\n",
    "macaque2$hash.ID[which(macaque2$hash.mcl.ID == 8)] <- \"macaque_24938\"\n",
    "macaque2$run <- \"macaque2\"\n",
    "macaque2$area <- \"AP\"\n",
    "macaque2$area[which(macaque2$hash.mcl.ID %in% c(2, 4, 6, 8))] <- \"NTS\"\n",
    "macaque2$pool <- macaque2$orig.ident\n",
    "macaque2[[\"percent.mt\"]] <- PercentageFeatureSet(macaque2, features = intersect(rownames(macaque2@assays$SCT), mito.genes))\n",
    "\n",
    "macaque2 <- subset(macaque2, nCount_RNA > 50000 | nCount_RNA < 500 | percent.mt > 0.5, invert = T)\n",
    "\n",
    "# macaque batch 3\n",
    "macaque3 <- readRDS(\"/projects/perslab/people/jmg776/projects/DVC/data/macaque_snRNA/241003_DVC_rhesus_seurat_obj.rds\")\n",
    "DefaultAssay(macaque3) <- \"RNA\"\n",
    "macaque3 <- JoinLayers(macaque3)\n",
    "macaque3$hash.ID <- paste0(\"macaque_\", str_split_fixed(macaque3$sample_id, \"_\", 2)[,1])\n",
    "macaque3$run <- \"macaque3\"\n",
    "macaque3$area <- str_split_fixed(macaque3$sample_id, \"_\", 2)[,2]\n",
    "macaque3$pool <- macaque3$reaction_id\n",
    "macaque3$percent.mt <- PercentageFeatureSet(macaque3, features = intersect(rownames(macaque3@assays$SCT), mito.genes))\n",
    "\n",
    "macaque3 <- subset(macaque3, nCount_RNA > 50000 | nCount_RNA < 500 | percent.mt > 0.5, invert = T)"
   ]
  },
  {
   "cell_type": "code",
   "execution_count": null,
   "id": "c71c9f61",
   "metadata": {},
   "outputs": [],
   "source": [
    "# Verifying subsetting was succesful\n",
    "hist(macaque1$nCount_RNA, breaks = 100)\n",
    "min(macaque1$nCount_RNA)"
   ]
  },
  {
   "cell_type": "code",
   "execution_count": null,
   "id": "5a0bc0e5",
   "metadata": {},
   "outputs": [],
   "source": [
    "# Prepare newest sample\n",
    "mapping <- read.table(\"/projects/perslab/people/jmg776/projects/DVC/analysis/revision/macaque_gene-ens_mapping.txt\",\n",
    "                      sep=\"\\t\", header=TRUE)\n",
    "\n",
    "ens_to_gene <- setNames(mapping$Gene.name, mapping$Gene.stable.ID)\n",
    "\n",
    "old_names <- rownames(macaque3)\n",
    "new_names <- ifelse(is.na(ens_to_gene[old_names]) | ens_to_gene[old_names] == \"\",\n",
    "                    old_names, ens_to_gene[old_names])\n",
    "\n",
    "counts <- GetAssayData(macaque3, assay = \"RNA\", layer = \"counts\")\n",
    "rownames(counts) <- new_names\n",
    "\n",
    "macaque3[[\"RNA\"]] <- CreateAssayObject(counts = counts)\n",
    "\n",
    "macaque3 <- SCTransform(macaque3)"
   ]
  },
  {
   "cell_type": "markdown",
   "id": "09cd4840",
   "metadata": {},
   "source": [
    "## 1.2. Run integration"
   ]
  },
  {
   "cell_type": "code",
   "execution_count": null,
   "id": "d67082eb",
   "metadata": {},
   "outputs": [],
   "source": [
    "macaque.list <- c(macaque1, SplitObject(macaque2, split.by = \"hash.ID\"), SplitObject(macaque3, split.by = \"hash.ID\"))\n",
    "for (i in 1:length(macaque.list)) {\n",
    "    macaque.list[[i]] <- SCTransform(macaque.list[[i]], verbose = F, method = \"qpoisson\")\n",
    "}\n",
    "\n",
    "features <- SelectIntegrationFeatures(object.list = macaque.list, nfeatures = 3000)\n",
    "options(future.globals.maxSize = 20000000000)\n",
    "macaque.list <- PrepSCTIntegration(object.list = macaque.list, anchor.features = features,\n",
    "    verbose = F)\n",
    "\n",
    "macaque.anchors <- FindIntegrationAnchors(object.list = macaque.list, normalization.method = \"SCT\",\n",
    "                                         reduction = \"cca\", anchor.features = features, verbose = F)\n",
    "macaque <- IntegrateData(anchorset = macaque.anchors, normalization.method = \"SCT\",\n",
    "    verbose = F, dims = 1:30)"
   ]
  },
  {
   "cell_type": "code",
   "execution_count": null,
   "id": "b2888592",
   "metadata": {},
   "outputs": [],
   "source": [
    "DefaultAssay(macaque) <- \"integrated\"\n",
    "macaque <- RunPCA(macaque, verbose = F, npcs = 100)\n",
    "macaque <- RunUMAP(macaque, dims = 1:30, n.neighbors = 30, verbose = F)\n",
    "macaque <- FindNeighbors(macaque, dims = 1:30, verbose = F)\n",
    "macaque <- FindClusters(macaque, resolution = 0.1, verbose = F)\n",
    "macaque <- FindClusters(macaque, resolution = 1, verbose = F)"
   ]
  },
  {
   "cell_type": "code",
   "execution_count": null,
   "id": "8d6560fb",
   "metadata": {},
   "outputs": [],
   "source": [
    "macaque@meta.data <- macaque@meta.data[, c(\"nCount_RNA\", \"nFeature_RNA\", \"nCount_SCT\", \"nFeature_SCT\",\n",
    "                                          \"percent.mt\", \"pool\", \"hash.ID\", \"area\", \"run\",\n",
    "                                          \"integrated_snn_res.0.1\", \"integrated_snn_res.1\")]\n",
    "saveRDS(macaque, file = \"/projects/perslab/people/jmg776/projects/DVC/output/Seurat_objs/macaque/macaque_combined_2025.rds\")"
   ]
  },
  {
   "cell_type": "markdown",
   "id": "ba1e198a",
   "metadata": {},
   "source": [
    "## 1.3. Inspect clusters and divide celltypes (glia, neuron)"
   ]
  },
  {
   "cell_type": "markdown",
   "id": "3938820e",
   "metadata": {},
   "source": [
    "### 1.3.1. Verify integration"
   ]
  },
  {
   "cell_type": "code",
   "execution_count": null,
   "id": "5bdfb997",
   "metadata": {},
   "outputs": [],
   "source": [
    "DimPlot(macaque, group.by = \"integrated_snn_res.0.1\", label = TRUE)\n",
    "DimPlot(macaque, group.by = \"integrated_snn_res.1\", label = TRUE)\n",
    "DimPlot(macaque, group.by = \"run\")"
   ]
  },
  {
   "cell_type": "markdown",
   "id": "491f7053",
   "metadata": {},
   "source": [
    "### 1.3.2. Define neurons"
   ]
  },
  {
   "cell_type": "code",
   "execution_count": null,
   "id": "6384680f",
   "metadata": {},
   "outputs": [],
   "source": [
    "DefaultAssay(macaque) <- \"RNA\"\n",
    "FeaturePlot(subset(macaque, run == \"macaque3\"), features = \"STMN2\", max.cutoff = \"q90\", slot = \"counts\")\n",
    "FeaturePlot(subset(macaque, run == \"macaque3\"), features = \"MAP2\", max.cutoff = \"q90\", slot = \"counts\")\n",
    "FeaturePlot(subset(macaque, run == \"macaque3\"), features = \"RBFOX3\", max.cutoff = \"q90\", slot = \"counts\")\n",
    "\n",
    "FeaturePlot(subset(macaque, run == \"macaque2\"), features = \"STMN2\", max.cutoff = \"q90\", slot = \"counts\")\n",
    "FeaturePlot(subset(macaque, run == \"macaque2\"), features = \"MAP2\", max.cutoff = \"q90\", slot = \"counts\")\n",
    "FeaturePlot(subset(macaque, run == \"macaque2\"), features = \"RBFOX3\", max.cutoff = \"q90\", slot = \"counts\")\n",
    "\n",
    "FeaturePlot(subset(macaque, run == \"macaque1\"), features = \"STMN2\", max.cutoff = \"q90\", slot = \"counts\")\n",
    "FeaturePlot(subset(macaque, run == \"macaque1\"), features = \"MAP2\", max.cutoff = \"q90\", slot = \"counts\")\n",
    "FeaturePlot(subset(macaque, run == \"macaque1\"), features = \"RBFOX3\", max.cutoff = \"q90\", slot = \"counts\")"
   ]
  },
  {
   "cell_type": "code",
   "execution_count": null,
   "id": "a0e6c233",
   "metadata": {},
   "outputs": [],
   "source": [
    "macaque_neurons <- subset(macaque, integrated_snn_res.1 %in% c(6, 12, 14, 15, 16, 17, 18, 19, 20, 21, 28, 32, 33, 34, 36))\n",
    "DimPlot(macaque_neurons, group.by = \"integrated_snn_res.1\", label = TRUE)\n",
    "DimPlot(macaque_neurons, group.by = \"run\")\n",
    "FeaturePlot(macaque_neurons, features = \"nCount_RNA\")"
   ]
  },
  {
   "cell_type": "code",
   "execution_count": null,
   "id": "bd63f82c",
   "metadata": {},
   "outputs": [],
   "source": [
    "macaque_neurons <- subset(macaque_neurons, integrated_snn_res.1 == 6, invert = TRUE)\n",
    "DimPlot(macaque_neurons)\n",
    "Idents(macaque_neurons) <- macaque_neurons$`integrated_snn_res.1`"
   ]
  },
  {
   "cell_type": "code",
   "execution_count": null,
   "id": "a158d55e",
   "metadata": {},
   "outputs": [],
   "source": [
    "macaque.list <- SplitObject(macaque_neurons, split.by = \"hash.ID\")\n",
    "\n",
    "for (i in 1:length(macaque.list)) {\n",
    "  DefaultAssay(macaque.list[[i]]) <- \"RNA\"\n",
    "  macaque.list[[i]][['integrated']] <- NULL\n",
    "  macaque.list[[i]] <- SCTransform(macaque.list[[i]], verbose = F, method = \"qpoisson\")\n",
    "}\n",
    "\n",
    "options(future.globals.maxSize = 40000000000)\n",
    "\n",
    "features <- SelectIntegrationFeatures(object.list = macaque.list, nfeatures = 3000)\n",
    "\n",
    "macaque.list <- PrepSCTIntegration(object.list = macaque.list, anchor.features = features,\n",
    "    verbose = F)\n",
    "\n",
    "macaque.anchors <- FindIntegrationAnchors(object.list = macaque.list, normalization.method = \"SCT\",\n",
    "    anchor.features = features, reduction = \"cca\", verbose = F)\n",
    "macaque_neurons <- IntegrateData(anchorset = macaque.anchors, normalization.method = \"SCT\",\n",
    "    verbose = F, dims = 1:30)"
   ]
  },
  {
   "cell_type": "code",
   "execution_count": null,
   "id": "62abb1a4",
   "metadata": {},
   "outputs": [],
   "source": [
    "macaque_neurons <- RunPCA(macaque_neurons, verbose = F, npcs = 100)\n",
    "macaque_neurons <- RunUMAP(macaque_neurons, dims = 1:30, n.neighbors = 30, verbose = F)\n",
    "macaque_neurons <- FindNeighbors(macaque_neurons, dims = 1:30, k.param = 30, verbose = F)\n",
    "macaque_neurons <- FindClusters(macaque_neurons, resolution = 0.1, verbose = F)"
   ]
  },
  {
   "cell_type": "code",
   "execution_count": null,
   "id": "864a7426",
   "metadata": {},
   "outputs": [],
   "source": [
    "DimPlot(macaque_neurons, group.by = \"integrated_snn_res.0.1\", label = TRUE)"
   ]
  },
  {
   "cell_type": "code",
   "execution_count": null,
   "id": "d4fa0f36",
   "metadata": {},
   "outputs": [],
   "source": [
    "macaque_neurons@meta.data <- macaque_neurons@meta.data[, c(\"nCount_RNA\", \"nFeature_RNA\", \"nCount_SCT\",\n",
    "                                                         \"nFeature_SCT\", \"percent.mt\", \"pool\", \n",
    "                                                         \"hash.ID\", \"area\", \"run\", \"integrated_snn_res.0.1\")]\n",
    "saveRDS(macaque_neurons, file = \"/projects/perslab/people/jmg776/projects/DVC/output/Seurat_objs/macaque/macaque_neurons_2025.rds\")"
   ]
  },
  {
   "cell_type": "markdown",
   "id": "f2b6680f",
   "metadata": {},
   "source": [
    "### 1.3.3. Define glia"
   ]
  },
  {
   "cell_type": "code",
   "execution_count": null,
   "id": "c0bffee5",
   "metadata": {},
   "outputs": [],
   "source": [
    "macaque_glia <- subset(macaque, integrated_snn_res.1 %in% c(6, 12, 14, 15, 16, 17, 18, 19, 20, 21, 28, 32, 33, 34, 36), invert = TRUE)\n",
    "DimPlot(macaque_glia, group.by = \"integrated_snn_res.1\", label = TRUE)\n",
    "DimPlot(macaque_glia, group.by = \"run\")\n",
    "FeaturePlot(macaque_glia, features = \"nCount_RNA\")"
   ]
  },
  {
   "cell_type": "code",
   "execution_count": null,
   "id": "b7f6fa56",
   "metadata": {},
   "outputs": [],
   "source": [
    "macaque.list <- SplitObject(macaque_glia, split.by = \"hash.ID\")\n",
    "\n",
    "for (i in 1:length(macaque.list)) {\n",
    "  DefaultAssay(macaque.list[[i]]) <- \"RNA\"\n",
    "  macaque.list[[i]][['integrated']] <- NULL\n",
    "  macaque.list[[i]] <- SCTransform(macaque.list[[i]], verbose = F, method = \"qpoisson\")\n",
    "}\n",
    "\n",
    "options(future.globals.maxSize = 40000000000)\n",
    "\n",
    "features <- SelectIntegrationFeatures(object.list = macaque.list, nfeatures = 3000)\n",
    "\n",
    "macaque.list <- PrepSCTIntegration(object.list = macaque.list, anchor.features = features,\n",
    "    verbose = F)\n",
    "\n",
    "macaque.anchors <- FindIntegrationAnchors(object.list = macaque.list, normalization.method = \"SCT\",\n",
    "    anchor.features = features, reduction = \"cca\", verbose = F)\n",
    "macaque_glia <- IntegrateData(anchorset = macaque.anchors, normalization.method = \"SCT\",\n",
    "    verbose = F, dims = 1:30)"
   ]
  },
  {
   "cell_type": "code",
   "execution_count": null,
   "id": "0b386bf1",
   "metadata": {},
   "outputs": [],
   "source": [
    "macaque_glia <- RunPCA(macaque_glia, verbose = F, npcs = 100)\n",
    "macaque_glia <- RunUMAP(macaque_glia, dims = 1:30, n.neighbors = 30, verbose = F)\n",
    "macaque_glia <- FindNeighbors(macaque_glia, dims = 1:30, k.param = 30, verbose = F)\n",
    "macaque_glia <- FindClusters(macaque_glia, resolution = 0.1, verbose = F)\n",
    "DimPlot(macaque_glia, group.by = \"integrated_snn_res.0.1\", label = TRUE)"
   ]
  },
  {
   "cell_type": "code",
   "execution_count": null,
   "id": "d6896439",
   "metadata": {},
   "outputs": [],
   "source": [
    "macaque_glia@meta.data <- macaque_glia@meta.data[, c(\"nCount_RNA\", \"nFeature_RNA\", \"nCount_SCT\",\n",
    "                                                         \"nFeature_SCT\", \"percent.mt\", \"pool\", \n",
    "                                                         \"hash.ID\", \"area\", \"run\", \"integrated_snn_res.0.1\")]\n",
    "saveRDS(macaque_glia, file = \"/projects/perslab/people/jmg776/projects/DVC/output/Seurat_objs/macaque/macaque_glia_2025.rds\")"
   ]
  }
 ],
 "metadata": {
  "kernelspec": {
   "display_name": "R 4.3.2",
   "language": "R",
   "name": "ir432"
  },
  "language_info": {
   "codemirror_mode": "r",
   "file_extension": ".r",
   "mimetype": "text/x-r-source",
   "name": "R",
   "pygments_lexer": "r",
   "version": "4.3.2"
  }
 },
 "nbformat": 4,
 "nbformat_minor": 5
}
