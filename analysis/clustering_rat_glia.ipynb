{
 "cells": [
  {
   "cell_type": "code",
   "execution_count": null,
   "id": "a34262eb-d2a6-4f3f-9f1e-af7b589f8e5a",
   "metadata": {},
   "outputs": [],
   "source": [
    "library(Seurat)\n",
    "library(ggplot2)\n",
    "library(ggpubr)"
   ]
  },
  {
   "cell_type": "markdown",
   "id": "ff3f9424-533c-4968-a928-c5accd0544fa",
   "metadata": {
    "lines_to_next_cell": 0
   },
   "source": [
    "# Load data"
   ]
  },
  {
   "cell_type": "code",
   "execution_count": null,
   "id": "415602ed-f2ce-4b6a-b9b8-45e4e9a7a810",
   "metadata": {},
   "outputs": [],
   "source": [
    "rat <- readRDS(\"/projects/mludwig/DVC/output/Seurat_objs/rat/rat_Seurat_obj.rds\")"
   ]
  },
  {
   "cell_type": "markdown",
   "id": "19aef79e-4b00-46b4-b190-1cb209bfb546",
   "metadata": {
    "lines_to_next_cell": 0
   },
   "source": [
    "# Subset glia"
   ]
  },
  {
   "cell_type": "code",
   "execution_count": null,
   "id": "c26a2e24-ca80-4c1f-8082-83c0aaba6da4",
   "metadata": {},
   "outputs": [],
   "source": [
    "rat.glia <- subset(rat, subset = SCT_snn_res.0.1 %in% c(1, 2, 6, 8, 11), invert = T) "
   ]
  },
  {
   "cell_type": "markdown",
   "id": "8ba6529c-4a1c-4115-8c09-2bd26ac801e4",
   "metadata": {
    "lines_to_next_cell": 0
   },
   "source": [
    "# Run data normalization"
   ]
  },
  {
   "cell_type": "code",
   "execution_count": null,
   "id": "71657a21-4777-4ff1-9cfe-802d2d11c63f",
   "metadata": {},
   "outputs": [],
   "source": [
    "rat.glia <- SCTransform(rat.glia, verbose = F, method = \"qpoisson\")"
   ]
  },
  {
   "cell_type": "markdown",
   "id": "365e0e6e-fdcf-4689-b16d-efa9291758d4",
   "metadata": {
    "lines_to_next_cell": 0
   },
   "source": [
    "# Run dimensionality reduction"
   ]
  },
  {
   "cell_type": "code",
   "execution_count": null,
   "id": "59ebb0c6-5133-4baa-83c4-ba05ee9a5cbc",
   "metadata": {},
   "outputs": [],
   "source": [
    "# PCA\n",
    "rat.glia <- RunPCA(rat.glia, npcs = 100, verbose = F)\n",
    "\n",
    "# Select number of PCs\n",
    "ElbowPlot(rat.glia, ndims = 100)\n",
    "\n",
    "# UMAP\n",
    "dims <- 30\n",
    "rat.glia <- RunUMAP(rat.glia, dims = 1:dims, n.neighbors = 50)"
   ]
  },
  {
   "cell_type": "markdown",
   "id": "8905bd75-7ea5-4309-84bf-87d83074c8da",
   "metadata": {
    "lines_to_next_cell": 0
   },
   "source": [
    "# Find clusters"
   ]
  },
  {
   "cell_type": "code",
   "execution_count": null,
   "id": "f7fe4f92-0465-47aa-a8e7-3824775a63f7",
   "metadata": {},
   "outputs": [],
   "source": [
    "rat.glia <- FindNeighbors(rat.glia, dims = 1:dims, k.param = 50, verbose = F)\n",
    "rat.glia <- FindClusters(rat.glia, resolution = 0.1, verbose = F)\n",
    "rat.glia <- FindClusters(rat.glia, resolution = 1, verbose = F)"
   ]
  },
  {
   "cell_type": "markdown",
   "id": "d82daa52-8952-439c-a929-7edda870491c",
   "metadata": {
    "lines_to_next_cell": 0
   },
   "source": [
    "# Save"
   ]
  },
  {
   "cell_type": "code",
   "execution_count": null,
   "id": "f308cb18-1254-4d19-a112-b51706a3b70f",
   "metadata": {},
   "outputs": [],
   "source": [
    "rat.glia@meta.data <- rat.glia@meta.data[, c(\"nCount_RNA\", \"nFeature_RNA\", \n",
    "                                             \"nCount_SCT\", \"nFeature_SCT\",\n",
    "                                             \"percent.mt\", \"pool\", \"hash.ID\", \n",
    "                                             \"treatment\", \"run\", \n",
    "                                             \"SCT_snn_res.0.1\")]\n",
    "saveRDS(rat.glia, file = \"/projects/mludwig/DVC/output/Seurat_objs/rat/rat_glia_Seurat_obj.rds\")"
   ]
  }
 ],
 "metadata": {
  "kernelspec": {
   "display_name": "conda_py3.11",
   "language": "python",
   "name": "conda_py3.11"
  },
  "language_info": {
   "codemirror_mode": {
    "name": "ipython",
    "version": 3
   },
   "file_extension": ".py",
   "mimetype": "text/x-python",
   "name": "python",
   "nbconvert_exporter": "python",
   "pygments_lexer": "ipython3",
   "version": "3.11.9"
  }
 },
 "nbformat": 4,
 "nbformat_minor": 5
}
