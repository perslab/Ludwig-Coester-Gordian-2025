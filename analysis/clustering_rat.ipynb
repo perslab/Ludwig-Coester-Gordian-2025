{
 "cells": [
  {
   "cell_type": "code",
   "execution_count": null,
   "id": "a8ba0a41-f7be-4503-bf0c-0f699034cf84",
   "metadata": {},
   "outputs": [],
   "source": [
    "library(Seurat)\n",
    "library(ggplot2)        \n",
    "library(openxlsx)"
   ]
  },
  {
   "cell_type": "markdown",
   "id": "d14dc775-4a90-4f12-8e88-47560763f834",
   "metadata": {
    "lines_to_next_cell": 0
   },
   "source": [
    "# Load data"
   ]
  },
  {
   "cell_type": "code",
   "execution_count": null,
   "id": "9bc6f20f-bd46-4fab-acd9-4a6f20ccd7c3",
   "metadata": {},
   "outputs": [],
   "source": [
    "# Rat batch 1\n",
    "rat1 <- readRDS(\"/projects/mludwig/DVC/data/rat_snRNA/20220621_brain_0284_seurat_obj.rds\")\n",
    "rat1$pool <- rat1$orig.ident\n",
    "rat1[[\"percent.mt\"]] <- PercentageFeatureSet(rat1, pattern = \"^Mt-\")\n",
    "rat1$run <- \"rat1\"\n",
    "rat1 <- subset(rat1, nCount_RNA > 3e+04 | nCount_RNA < 500 | percent.mt  > 2, invert = T)\n",
    "\n",
    "# Rat batch 2\n",
    "rat2 <- readRDS(\"/projects/mludwig/DVC/data/rat_snRNA/20220621_brain_0285_seurat_obj.rds\")\n",
    "rat2$pool <- rat2$orig.ident\n",
    "rat2[[\"percent.mt\"]] <- PercentageFeatureSet(rat2, pattern = \"^Mt-\")\n",
    "rat2$run <- \"rat2\"\n",
    "rat2 <- subset(rat2, nCount_RNA > 3e+04 | nCount_RNA < 500 | percent.mt  > 2, invert = T)\n",
    "\n",
    "# Rat batch 3\n",
    "rat3 <- readRDS(\"/projects/mludwig/DVC/data/rat_snRNA/20220801_brainDVC_1_seurat_obj.rds\")\n",
    "rat3$pool <- rat3$orig.ident\n",
    "rat3[[\"percent.mt\"]] <- PercentageFeatureSet(rat3, pattern = \"^Mt-\")\n",
    "rat3$run <- \"rat3\"\n",
    "rat3$hash.mcl.ID <- gsub(\"-\", \"\", rat3$hash.mcl.ID)\n",
    "rat3 <- subset(rat3, nCount_RNA > 3e+04 | nCount_RNA < 500 | percent.mt  > 2, invert = T)\n",
    "\n",
    "# Rat batch 4\n",
    "rat4 <- readRDS(\"/projects/mludwig/DVC/data/rat_snRNA/20220801_brainDVC_2_seurat_obj.rds\")\n",
    "rat4$pool <- rat4$orig.ident\n",
    "rat4[[\"percent.mt\"]] <- PercentageFeatureSet(rat4, pattern = \"^Mt-\")\n",
    "rat4$run <- \"rat4\"\n",
    "rat4$hash.mcl.ID <- gsub(\"-\", \"\", rat4$hash.mcl.ID)\n",
    "rat4 <- subset(rat4, nCount_RNA > 3e+04 | nCount_RNA < 500 | percent.mt  > 2, invert = T)\n",
    "\n",
    "# Rat batch 5\n",
    "rat5 <- readRDS(\"/projects/mludwig/DVC/data/rat_snRNA/221025_brain_1_seurat_obj.rds\")\n",
    "rat5$pool <- rat5$orig.ident\n",
    "rat5[[\"percent.mt\"]] <- PercentageFeatureSet(rat5, pattern = \"^Mt-\")\n",
    "rat5$run <- \"rat5\"\n",
    "rat5$hash.mcl.ID <- gsub(\"-\", \"\", rat5$hash.mcl.ID)\n",
    "rat5 <- subset(rat5, nCount_RNA > 3e+04 | nCount_RNA < 500 | percent.mt  > 2, invert = T)\n",
    "\n",
    "# Rat batch 6\n",
    "rat6 <- readRDS(\"/projects/mludwig/DVC/data/rat_snRNA/221025_brain_2_seurat_obj.rds\")\n",
    "rat6$pool <- rat6$orig.ident\n",
    "rat6[[\"percent.mt\"]] <- PercentageFeatureSet(rat6, pattern = \"^Mt-\")\n",
    "rat6$run <- \"rat6\"\n",
    "rat6$hash.mcl.ID <- gsub(\"-\", \"\", rat6$hash.mcl.ID)\n",
    "rat6 <- subset(rat6, nCount_RNA > 3e+04 | nCount_RNA < 500 | percent.mt  > 2, invert = T)"
   ]
  },
  {
   "cell_type": "markdown",
   "id": "09e785e5-f926-4bc3-be7b-e33d4c3f2a22",
   "metadata": {
    "lines_to_next_cell": 0
   },
   "source": [
    "# Merge "
   ]
  },
  {
   "cell_type": "code",
   "execution_count": null,
   "id": "31d27786-9408-4a70-8894-bb89110819e4",
   "metadata": {},
   "outputs": [],
   "source": [
    "rat.list <- list(rat1, rat2, rat3, rat4, rat5, rat6) \n",
    "\n",
    "names(rat.list) <- c(\"rat1\", \"rat2\", \"rat3\", \"rat4\", \"rat5\", \"rat6\")\n",
    "\n",
    "rat <- merge(x = rat.list[[1]], y = rat.list[-1])\n",
    "\n",
    "rat@meta.data$treatment <- dplyr::case_when(\n",
    "  rat@meta.data$hash.mcl.ID%in%c(paste0('Animal', c(2,12,13,21,24,25,35,36,40,41))) ~ 'V-A',\n",
    "  rat@meta.data$hash.mcl.ID%in%c(paste0('Animal', c(3,7,8,10,11,18,22,28,29,37,42))) ~ 'A8-A',  \n",
    "  rat@meta.data$hash.mcl.ID%in%c(paste0('Animal', c(1,5,6,23,26,27,30,32,33,34,38))) ~ 'A8-C',                                       \n",
    "  rat@meta.data$hash.mcl.ID%in%c(paste0('Animal', c(4,9,14,15,16,17,20,31,39,43,44))) ~ 'WM-C', \n",
    "  rat@meta.data$hash.mcl.ID%in%c(paste0('Animal', c(45,46,47,48,49,50))) ~ 'L-A', \n",
    ")\n",
    "\n",
    "rat$hash.ID <- rat$hash.mcl.ID\n",
    "rat$hash.ID <- paste0(rat$treatment, \"-\", gsub(\"Animal\", \"\", rat$hash.ID))"
   ]
  },
  {
   "cell_type": "markdown",
   "id": "24723f01-8f91-44b4-a65b-47df6a9a3131",
   "metadata": {
    "lines_to_next_cell": 0
   },
   "source": [
    "# Normalize"
   ]
  },
  {
   "cell_type": "code",
   "execution_count": null,
   "id": "fb69b8ad-f464-42ea-80d9-a21bbc1414e1",
   "metadata": {},
   "outputs": [],
   "source": [
    "rat <- SCTransform(rat, verbose = F, method = \"qpoisson\")"
   ]
  },
  {
   "cell_type": "markdown",
   "id": "f06905f9-0d0b-4092-b76f-d76d20950022",
   "metadata": {
    "lines_to_next_cell": 0
   },
   "source": [
    "# Run dimensionality reduction"
   ]
  },
  {
   "cell_type": "code",
   "execution_count": null,
   "id": "741ff974-1c9a-433c-90c4-e474cc1a6a81",
   "metadata": {},
   "outputs": [],
   "source": [
    "# PCA\n",
    "VariableFeatures(rat[[\"SCT\"]]) <- rownames(rat[[\"SCT\"]]@scale.data)\n",
    "rat <- RunPCA(rat, verbose = F, npcs = 100)\n",
    "\n",
    "# Select number of PCs\n",
    "ElbowPlot(rat, ndims = 100)\n",
    "\n",
    "# UMAP\n",
    "rat <- RunUMAP(rat, dims = 1:30, n.neighbors = 50)\n",
    "DimPlot(rat, group.by = \"run\", shuffle = T)"
   ]
  },
  {
   "cell_type": "markdown",
   "id": "6abd03b4-dd29-48a2-8865-4c0bd1c8be6d",
   "metadata": {
    "lines_to_next_cell": 0
   },
   "source": [
    "# Find clusters"
   ]
  },
  {
   "cell_type": "code",
   "execution_count": null,
   "id": "19a7b158-3cb6-49c4-9063-b31de75edb44",
   "metadata": {},
   "outputs": [],
   "source": [
    "rat <- FindNeighbors(rat, dims = 1:30, k.param = 50, verbose = F)\n",
    "rat <- FindClusters(rat, resolution = 0.1, verbose = F)\n",
    "rat <- FindClusters(rat, resolution = 1, verbose = F)"
   ]
  },
  {
   "cell_type": "markdown",
   "id": "3db1a893-e421-40f1-a5ab-6b6d6c0d3d89",
   "metadata": {
    "lines_to_next_cell": 0
   },
   "source": [
    "# Save"
   ]
  },
  {
   "cell_type": "code",
   "execution_count": null,
   "id": "ed6eaa6d-e7dc-44e5-ab4c-5e6cb919d242",
   "metadata": {
    "lines_to_next_cell": 0
   },
   "outputs": [],
   "source": [
    "rat@meta.data  <- rat@meta.data[, c(\"nCount_RNA\", \"nFeature_RNA\", \n",
    "                                    \"nCount_SCT\", \"nFeature_SCT\",\n",
    "                                    \"percent.mt\", \"pool\", \"hash.ID\", \n",
    "                                    \"treatment\", \"run\", \n",
    "                                    \"SCT_snn_res.0.1\", \"SCT_snn_res.1\")]\n",
    "\n",
    "saveRDS(rat, file = \"/projects/mludwig/DVC/output/Seurat_objs/rat/rat_Seurat_obj.rds\")"
   ]
  }
 ],
 "metadata": {
  "kernelspec": {
   "display_name": "conda_py3.11",
   "language": "python",
   "name": "conda_py3.11"
  },
  "language_info": {
   "codemirror_mode": {
    "name": "ipython",
    "version": 3
   },
   "file_extension": ".py",
   "mimetype": "text/x-python",
   "name": "python",
   "nbconvert_exporter": "python",
   "pygments_lexer": "ipython3",
   "version": "3.11.9"
  }
 },
 "nbformat": 4,
 "nbformat_minor": 5
}
