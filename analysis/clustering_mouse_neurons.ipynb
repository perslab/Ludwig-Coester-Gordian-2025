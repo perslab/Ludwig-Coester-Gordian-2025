{
 "cells": [
  {
   "cell_type": "code",
   "execution_count": null,
   "id": "bbd94629-626b-479d-b188-a53eab29214c",
   "metadata": {},
   "outputs": [],
   "source": [
    "library(Seurat)\n",
    "library(ggplot2)"
   ]
  },
  {
   "cell_type": "markdown",
   "id": "ccb18ee9-3266-4475-a2f7-93065f5e06e4",
   "metadata": {
    "lines_to_next_cell": 0
   },
   "source": [
    "# Load data"
   ]
  },
  {
   "cell_type": "code",
   "execution_count": null,
   "id": "0fc45aa4-0e4e-4501-9059-c48be8c3e026",
   "metadata": {},
   "outputs": [],
   "source": [
    "mouse <- readRDS(\"/projects/mludwig/DVC/output/Seurat_objs/mouse/mouse_Seurat_obj.rds\")"
   ]
  },
  {
   "cell_type": "markdown",
   "id": "e17655ef-a8ad-4ba7-8706-08be0a0dd6aa",
   "metadata": {
    "lines_to_next_cell": 0
   },
   "source": [
    "# Subset neurons"
   ]
  },
  {
   "cell_type": "code",
   "execution_count": null,
   "id": "07763b95-e91b-4c80-a4a5-2409f9caf698",
   "metadata": {},
   "outputs": [],
   "source": [
    "mouse.neurons <- subset(mouse, subset = SCT_snn_res.0.1 %in% c(0, 3, 4, 8, 9, 11))"
   ]
  },
  {
   "cell_type": "markdown",
   "id": "756c77a8-f797-42a3-94ae-03865d5386cd",
   "metadata": {
    "lines_to_next_cell": 0
   },
   "source": [
    "# Run data normalization"
   ]
  },
  {
   "cell_type": "code",
   "execution_count": null,
   "id": "ef8f8e6c-915c-4311-9dd3-43756f6007fa",
   "metadata": {},
   "outputs": [],
   "source": [
    "mouse.neurons <- SCTransform(mouse.neurons, verbose = F, method = \"qpoisson\")"
   ]
  },
  {
   "cell_type": "markdown",
   "id": "8edd2ce2-0bb9-4fb2-8b2c-004b54dbbec4",
   "metadata": {
    "lines_to_next_cell": 0
   },
   "source": [
    "# Run dimensionality reduction"
   ]
  },
  {
   "cell_type": "code",
   "execution_count": null,
   "id": "14d936fa-d888-4527-887d-72cee4de9d0b",
   "metadata": {},
   "outputs": [],
   "source": [
    "# PCA\n",
    "mouse.neurons <- RunPCA(mouse.neurons, npcs = 100, verbose = F)\n",
    "\n",
    "# Select number of PCs\n",
    "ElbowPlot(mouse.neurons, ndims = 100)\n",
    "\n",
    "# UMAP\n",
    "dims <- 30\n",
    "mouse.neurons <- RunUMAP(mouse.neurons, dims = 1:dims, n.neighbors = 50)"
   ]
  },
  {
   "cell_type": "markdown",
   "id": "93b4acab-64ca-4994-9a96-28ebd73f417c",
   "metadata": {
    "lines_to_next_cell": 0
   },
   "source": [
    "# Find clusters"
   ]
  },
  {
   "cell_type": "code",
   "execution_count": null,
   "id": "48258129-26a4-4d31-8ef5-65eb90d39102",
   "metadata": {},
   "outputs": [],
   "source": [
    "mouse.neurons <- FindNeighbors(mouse.neurons, dims = 1:dims, k.param = 50, verbose = F)\n",
    "mouse.neurons <- FindClusters(mouse.neurons, resolution = 0.1, verbose = F)\n",
    "mouse.neurons <- FindClusters(mouse.neurons, resolution = 1, verbose = F)"
   ]
  },
  {
   "cell_type": "markdown",
   "id": "8bf23c3f-0447-478d-b87e-91e2f0861662",
   "metadata": {
    "lines_to_next_cell": 0
   },
   "source": [
    "# Project labels"
   ]
  },
  {
   "cell_type": "code",
   "execution_count": null,
   "id": "cb760330-060b-49fb-8d13-eb4e94162223",
   "metadata": {},
   "outputs": [],
   "source": [
    "# Neurons classified in Zhang et al.\n",
    "zhang.neurons <- readRDS(\"/projects/mludwig/Ludwig-Diabetes-2021/data/Zhang/AP_neurons_Seurat_obj.rds\")\n",
    "zhang.neurons.no.NTS <- readRDS(\"/projects/mludwig/Ludwig-Diabetes-2021/data/Zhang/AP_neurons_no_NTS_Seurat_obj.rds\")\n",
    "zhang.neurons$origin <- \"NTS\"\n",
    "zhang.neurons$origin[match(colnames(zhang.neurons.no.NTS), colnames(zhang.neurons))] <- zhang.neurons.no.NTS$seurat_clusters\n",
    "\n",
    "zhang.neurons$cell.subtype <- \"\"\n",
    "zhang.neurons$cell.subtype[which(zhang.neurons$SCT_snn_res.1.1 == 0)] <- \"5_AP\"\n",
    "zhang.neurons$cell.subtype[which(zhang.neurons$SCT_snn_res.1.1 == 1)] <- \"1_AP\"\n",
    "zhang.neurons$cell.subtype[which(zhang.neurons$SCT_snn_res.1.1 == 2)] <- \"10_NTS\"\n",
    "zhang.neurons$cell.subtype[which(zhang.neurons$SCT_snn_res.1.1 == 3)] <- \"6_AP\"\n",
    "zhang.neurons$cell.subtype[which(zhang.neurons$SCT_snn_res.1.1 == 4)] <- \"2_AP\"\n",
    "zhang.neurons$cell.subtype[which(zhang.neurons$SCT_snn_res.1.1 == 5)] <- \"8_NTS\"\n",
    "zhang.neurons$cell.subtype[which(zhang.neurons$SCT_snn_res.1.1 == 6)] <- \"3_AP\"\n",
    "zhang.neurons$cell.subtype[which(zhang.neurons$SCT_snn_res.1.1 == 7)] <- \"7_AP\"\n",
    "zhang.neurons$cell.subtype[which(zhang.neurons$SCT_snn_res.1.1 == 8)] <- \"9_NTS\"\n",
    "zhang.neurons$cell.subtype[which(zhang.neurons$SCT_snn_res.1.1 == 9)] <- \"4_AP\"\n",
    "\n",
    "# Neurons classified in Ludwig et al. \n",
    "ludwig.neurons <- readRDS(\"/projects/mludwig/DVC/output/Seurat_objs/AP_neurons_integrated_Seurat_obj_dims40.rds\")"
   ]
  },
  {
   "cell_type": "code",
   "execution_count": null,
   "id": "709eff40-76e7-4e21-abee-1e2663b76ca6",
   "metadata": {},
   "outputs": [],
   "source": [
    "# Project labels from Zhang et al. \n",
    "DefaultAssay(zhang.neurons) <- \"SCT\"\n",
    "DefaultAssay(mouse.neurons) <- \"SCT\"\n",
    "\n",
    "anchors <- FindTransferAnchors(reference = zhang.neurons, query = mouse.neurons, \n",
    "    dims = 1:dims, normalization.method = \"SCT\")\n",
    "predictions <- TransferData(anchorset = anchors, refdata = zhang.neurons$cell.subtype, \n",
    "    dims = 1:dims)\n",
    "\n",
    "mouse.neurons$zhang.predictions <- predictions$predicted.id\n",
    "mouse.neurons$zhang.score <- predictions$prediction.score.max"
   ]
  },
  {
   "cell_type": "code",
   "execution_count": null,
   "id": "8b5e55d2-7700-48ba-8980-06d8d39228e1",
   "metadata": {},
   "outputs": [],
   "source": [
    "# Project label from Ludwig et al. \n",
    "DefaultAssay(ludwig.neurons) <- \"integrated\"\n",
    "DefaultAssay(mouse.neurons) <- \"SCT\"\n",
    "\n",
    "anchors <- FindTransferAnchors(reference = ludwig.neurons, query = mouse.neurons, \n",
    "    dims = 1:dims, normalization.method = \"SCT\")\n",
    "predictions <- TransferData(anchorset = anchors, refdata = ludwig.neurons$cell.subtype2, \n",
    "    dims = 1:dims)\n",
    "\n",
    "mouse.neurons$ludwig.predictions <- predictions$predicted.id\n",
    "mouse.neurons$ludwig.score <- predictions$prediction.score.max"
   ]
  },
  {
   "cell_type": "markdown",
   "id": "4c1bf57b-d963-4a1f-8698-c4e6d2a8dd45",
   "metadata": {
    "lines_to_next_cell": 0
   },
   "source": [
    "# Save"
   ]
  },
  {
   "cell_type": "code",
   "execution_count": null,
   "id": "3728c0a8-b308-4aa0-ad89-b54c10253bc3",
   "metadata": {},
   "outputs": [],
   "source": [
    "mouse.neurons@meta.data <- mouse.neurons@meta.data[, c(\"nCount_RNA\", \"nFeature_RNA\", \n",
    "                                                       \"nCount_SCT\", \"nFeature_SCT\",\n",
    "                                                       \"percent.mt\", \"pool\", \"hash.ID\", \n",
    "                                                       \"treatment\", \"run\",\n",
    "                                                       \"SCT_snn_res.0.1\", \n",
    "                                                       \"zhang.predictions\", \"zhang.score\",\n",
    "                                                       \"ludwig.predictions\", \"ludwig.score\")]\n",
    "saveRDS(mouse.neurons, \n",
    "        file = \"/projects/mludwig/DVC/output/Seurat_objs/mouse/mouse_neurons_Seurat_obj.rds\")"
   ]
  }
 ],
 "metadata": {
  "kernelspec": {
   "display_name": "conda_py3.11",
   "language": "python",
   "name": "conda_py3.11"
  },
  "language_info": {
   "codemirror_mode": {
    "name": "ipython",
    "version": 3
   },
   "file_extension": ".py",
   "mimetype": "text/x-python",
   "name": "python",
   "nbconvert_exporter": "python",
   "pygments_lexer": "ipython3",
   "version": "3.11.9"
  }
 },
 "nbformat": 4,
 "nbformat_minor": 5
}
