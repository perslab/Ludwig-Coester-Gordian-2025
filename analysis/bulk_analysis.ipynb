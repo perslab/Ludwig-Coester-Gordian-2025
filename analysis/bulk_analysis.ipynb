{
 "cells": [
  {
   "cell_type": "code",
   "execution_count": null,
   "id": "f178fd04-e3eb-40a3-8c8f-abb4ecabd6a7",
   "metadata": {},
   "outputs": [],
   "source": [
    "library(ggplot2)\n",
    "library(ggrepel)\n",
    "library(ggpubr)\n",
    "library(DESeq2)\n",
    "library(glmnet)\n",
    "library(fgsea)\n",
    "library(GSVA)\n",
    "library(openxlsx)\n",
    "library(doMC)\n",
    "library(dplyr)\n",
    "registerDoMC(20)"
   ]
  },
  {
   "cell_type": "markdown",
   "id": "4ab2df8a-c77a-4e4f-9121-792a25d08e16",
   "metadata": {
    "lines_to_next_cell": 0
   },
   "source": [
    "# Define function to map genes between species"
   ]
  },
  {
   "cell_type": "code",
   "execution_count": null,
   "id": "b2515471-36d8-41cc-8adc-e49b2aa6ae7c",
   "metadata": {},
   "outputs": [],
   "source": [
    "computeSpeciesAssay <- function(x, ensembl.mapping = NULL, species = NULL){\n",
    "    \n",
    "    from <- \"Gene.name\"\n",
    "    to <- paste0(stringr::str_to_title(species), \".gene.name\")\n",
    "\n",
    "    # Process mapping data\n",
    "    mapping <- ensembl.mapping[apply(ensembl.mapping[, c(from, to)], 1, function(row) \n",
    "      all(row != \"\")), c(from, to)]\n",
    "    \n",
    "    newgenes <- mapping[which(mapping[, 1] %in% rownames(x)),]\n",
    "    # To avoid the many-to-many issue, genes are mapped to the homolog with the shortest name\n",
    "    newgenes <- newgenes[order(nchar(newgenes[,2])),] \n",
    "    newgenes <- newgenes[!duplicated(newgenes[,2]),] \n",
    "    \n",
    "    defect_genes <- which(newgenes[,1] %in% setdiff(newgenes[,1],rownames(x)))\n",
    "    if ( length(defect_genes) > 0) newgenes <- newgenes[-defect_genes,]\n",
    "    new_mat <- Matrix::fac2sparse(newgenes[,2]) %*% as.matrix(x[newgenes[,1],])\n",
    "    \n",
    "    new_mat <- as.data.frame(as.matrix(new_mat))\n",
    "    return(new_mat)\n",
    "}"
   ]
  },
  {
   "cell_type": "markdown",
   "id": "7c2483ad-d60f-47b9-b061-1d14bace121e",
   "metadata": {
    "lines_to_next_cell": 0
   },
   "source": [
    "# Load bulk transcriptomics data and map rat genes to mouse orthologous "
   ]
  },
  {
   "cell_type": "code",
   "execution_count": null,
   "id": "87c4e747-c41d-41b9-835a-1d6451ff4bcf",
   "metadata": {},
   "outputs": [],
   "source": [
    "# Mapping file\n",
    "rat.to.mouse <- read.csv(\"/projects/mludwig/DVC/data/gene_info/rat_to_mouse.txt\")\n",
    "\n",
    "# Load mouse transcriptomics data\n",
    "counts.mouse <- read.csv(\"/projects/mludwig/DVC/data/bulk_rna-seq/processed/counts_mouse.csv\",\n",
    "                         row.names = 1)\n",
    "outliers.mouse <- c(\"mouse11\", \"mouse25\", \"mouse27\", \"mouse33\")\n",
    "counts.mouse <- counts.mouse[,!(colnames(counts.mouse) %in% outliers.mouse)]\n",
    "meta.mouse <- read.csv(\"/projects/mludwig/DVC/data/bulk_rna-seq/processed/meta_mouse.csv\")\n",
    "meta.mouse <- meta.mouse[!(meta.mouse$sample %in% outliers.mouse),]\n",
    "\n",
    "# Load rat transcriptomics data\n",
    "counts.rat.unmapped <- read.csv(\"/projects/mludwig/DVC/data/bulk_rna-seq/processed/counts_rat.csv\", \n",
    "                                row.names = 1)\n",
    "outliers.rat <-  c(\"rat9\", \"rat65\")\n",
    "counts.rat.unmapped <- counts.rat.unmapped[,!(colnames(counts.rat.unmapped) %in% outliers.rat)]\n",
    "meta.rat <- read.csv(\"/projects/mludwig/DVC/data/bulk_rna-seq/processed/meta_rat.csv\")\n",
    "meta.rat <- meta.rat[!(meta.rat$sample %in% outliers.rat),]\n",
    "\n",
    "# Map rat genes to mouse orthologues genes\n",
    "counts.rat <- computeSpeciesAssay(counts.rat.unmapped, ensembl.mapping = rat.to.mouse,\n",
    "                                  species = \"mouse\")\n",
    "\n",
    "\n",
    "# Only include shared genes for downstream analysis\n",
    "common.genes <- intersect(rownames(counts.mouse), rownames(counts.rat))\n",
    "counts.mouse <- counts.mouse[common.genes, ]\n",
    "counts.rat <- counts.rat[common.genes, ]"
   ]
  },
  {
   "cell_type": "markdown",
   "id": "d43988c4-0e9c-4e89-af2e-81e8daac155d",
   "metadata": {
    "lines_to_next_cell": 0
   },
   "source": [
    "# Function to perform DESeq2 analysis"
   ]
  },
  {
   "cell_type": "code",
   "execution_count": null,
   "id": "2646035d-96ae-4e92-b2f4-822c1e307c7b",
   "metadata": {},
   "outputs": [],
   "source": [
    "compute.DESeq2.stats <- function(counts, meta, group1, group2) {\n",
    "  \n",
    "  # Define groups\n",
    "  groups <- c(group2, group1)\n",
    "  samples.sub <- meta$sample[meta$treatment %in% groups]\n",
    "  counts.sub <- counts[, samples.sub]\n",
    "  meta.sub <- meta[match(samples.sub, meta$sample),]\n",
    "  \n",
    "  # Normalization and differential gene expression\n",
    "  design <- data.frame(condition = meta.sub$treatment, rRNA = meta.sub$rRNA)\n",
    "  design$condition <- factor(design$condition, levels = groups)\n",
    "  dds <- DESeqDataSetFromMatrix(counts.sub, DataFrame(design), ~ condition + rRNA)\n",
    "  \n",
    "  dds <- DESeq(dds)\n",
    "  vsd <- vst(dds, blind=F)\n",
    "  DEGs <- results(dds, name=resultsNames(dds)[2]) \n",
    "  DEGs <- data.frame(DEGs)\n",
    "  return(list(DEGs = DEGs, vsd = vsd))\n",
    "    \n",
    "}"
   ]
  },
  {
   "cell_type": "markdown",
   "id": "4a5c5991-f369-4808-9bc5-7fe981b7868f",
   "metadata": {
    "lines_to_next_cell": 0
   },
   "source": [
    "# Perform differential gene expression analysis"
   ]
  },
  {
   "cell_type": "code",
   "execution_count": null,
   "id": "94927670-d120-48b5-93d1-660380cc67d7",
   "metadata": {},
   "outputs": [],
   "source": [
    "# Mouse \n",
    "DEGs.mouse.acute <- compute.DESeq2.stats(counts = counts.mouse, meta = meta.mouse,\n",
    "                                         group1 = \"A8-A\", group2  = \"V-A\")\n",
    "saveRDS(DEGs.mouse.acute[[\"DEGs\"]], \n",
    "        file = \"/projects/mludwig/DVC/output/DEGs/bulk/DESeq2_mouse_acute.rds\")\n",
    "\n",
    "DEGs.mouse.chronic <- compute.DESeq2.stats(counts = counts.mouse, meta = meta.mouse,\n",
    "                                           group1 = \"A8-C\", group2  = \"WM-C\")\n",
    "saveRDS(DEGs.mouse.chronic[[\"DEGs\"]], \n",
    "        file = \"/projects/mludwig/DVC/output/DEGs/bulk/DESeq2_mouse_chronic.rds\")\n",
    "\n",
    "DEGs.mouse.lean <- compute.DESeq2.stats(counts = counts.mouse, meta = meta.mouse,\n",
    "                                        group1 = \"L-A\", group2  = \"V-A\")\n",
    "saveRDS(DEGs.mouse.lean[[\"DEGs\"]], \n",
    "        file = \"/projects/mludwig/DVC/output/DEGs/bulk/DESeq2_mouse_lean.rds\")\n",
    "\n",
    "\n",
    "# Rat \n",
    "DEGs.rat.acute <- compute.DESeq2.stats(counts = counts.rat, meta = meta.rat,\n",
    "                                        group1 = \"A8-A\", group2  = \"V-A\")\n",
    "saveRDS(DEGs.rat.acute[[\"DEGs\"]], \n",
    "        file = \"/projects/mludwig/DVC/output/DEGs/bulk/DESeq2_rat_acute.rds\")\n",
    "\n",
    "DEGs.rat.chronic <- compute.DESeq2.stats(counts = counts.rat, meta = meta.rat,\n",
    "                                         group1 = \"A8-C\", group2  = \"WM-C\")\n",
    "saveRDS(DEGs.rat.chronic[[\"DEGs\"]], \n",
    "        file = \"/projects/mludwig/DVC/output/DEGs/bulk/DESeq2_rat_chronic.rds\")\n",
    "\n",
    "DEGs.rat.lean <- compute.DESeq2.stats(counts = counts.rat, meta = meta.rat,\n",
    "                                      group1 = \"L-A\", group2  = \"V-A\")\n",
    "saveRDS(DEGs.rat.lean[[\"DEGs\"]], \n",
    "        file = \"/projects/mludwig/DVC/output/DEGs/bulk/DESeq2_rat_lean.rds\")"
   ]
  },
  {
   "cell_type": "markdown",
   "id": "dd5ed04c-c8e4-41b4-8eb4-3f506aeaeef8",
   "metadata": {
    "lines_to_next_cell": 0
   },
   "source": [
    "# Construct logistic regression classifier"
   ]
  },
  {
   "cell_type": "code",
   "execution_count": null,
   "id": "392d078d-529d-49a7-b34b-daaddc5af3de",
   "metadata": {
    "lines_to_next_cell": 0
   },
   "outputs": [],
   "source": [
    "# Logistic regression classifier\n",
    "vsd.list <- list(mouse.acute = DEGs.mouse.acute[[\"vsd\"]], rat.acute = DEGs.rat.acute[[\"vsd\"]], \n",
    "                 mouse.chronic = DEGs.mouse.chronic[[\"vsd\"]], rat.chronic = DEGs.rat.chronic[[\"vsd\"]])\n",
    "\n",
    "\n",
    "treatment.list <- list(mouse.acute = meta.mouse$treatment[match(colnames(vsd.list[[\"mouse.acute\"]]),\n",
    "                                                                meta.mouse$sample)],\n",
    "                       rat.acute = meta.rat$treatment[match(colnames(vsd.list[[\"rat.acute\"]]),\n",
    "                                                            meta.rat$sample)],\n",
    "                       mouse.chronic = meta.mouse$treatment[match(colnames(vsd.list[[\"mouse.chronic\"]]),\n",
    "                                                                  meta.mouse$sample)],\n",
    "                       rat.chronic = meta.rat$treatment[match(colnames(vsd.list[[\"rat.chronic\"]]),\n",
    "                                                              meta.rat$sample)])\n",
    "                       \n",
    "output <- data.frame(matrix(NA, nrow = length(vsd.list), ncol = 1))\n",
    "rownames(output) <- names(vsd.list)\n",
    "colnames(output) <- c(\"accuracy\")\n",
    "\n",
    "for (k in 1:length(vsd.list)) {\n",
    "  \n",
    "  vsd <- vsd.list[[k]]\n",
    "  rv <- rowVars(assay(vsd))\n",
    "  ntop <- nrow(assay(vsd))\n",
    "  select <- order(rv, decreasing = TRUE)[seq_len(min(ntop,length(rv)))]\n",
    "  pca <- prcomp(t(assay(vsd)[select, ]))\n",
    "  X <- pca$x\n",
    "  Y <- treatment.list[[k]]\n",
    "\n",
    "  prediction <- c()\n",
    "  for (j in 1:length(Y)) {\n",
    "    \n",
    "  weights <- sapply(Y[-j], function (x) sum(Y[-j] != x) / length(Y[-j])) \n",
    "  fit <- cv.glmnet(X[-j,], Y[-j], alpha = 1,  type.measure = \"class\", \n",
    "                   nfolds = length(Y[-j]), \n",
    "                   standardize = F, intercept = T, family = \"binomial\", grouped = F,\n",
    "                   weights = weights)\n",
    "  \n",
    "  prediction <- c(prediction, predict(fit, X[j,, drop = F], type=\"class\", s = fit$lambda.min))\n",
    "  }\n",
    "\n",
    "  accuracy <- sum(prediction == Y) / length(Y)\n",
    "  output$accuracy[k] <- accuracy\n",
    "}\n",
    "\n",
    "output\n",
    "\n",
    "# Save \n",
    "saveRDS(output, file = \"/projects/mludwig/DVC/output/DEGs/bulk/glmnet.rds\")"
   ]
  },
  {
   "cell_type": "markdown",
   "id": "38d5c902-112a-4d31-b31a-8a8c84cc2904",
   "metadata": {},
   "source": [
    "\n",
    "\n"
   ]
  }
 ],
 "metadata": {
  "kernelspec": {
   "display_name": "conda_py3.11",
   "language": "python",
   "name": "conda_py3.11"
  },
  "language_info": {
   "codemirror_mode": {
    "name": "ipython",
    "version": 3
   },
   "file_extension": ".py",
   "mimetype": "text/x-python",
   "name": "python",
   "nbconvert_exporter": "python",
   "pygments_lexer": "ipython3",
   "version": "3.11.9"
  }
 },
 "nbformat": 4,
 "nbformat_minor": 5
}
